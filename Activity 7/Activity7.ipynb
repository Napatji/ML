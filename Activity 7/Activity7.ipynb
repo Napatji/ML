{
 "cells": [
  {
   "cell_type": "markdown",
   "metadata": {},
   "source": [
    "Data Preparation"
   ]
  },
  {
   "cell_type": "code",
   "execution_count": 137,
   "metadata": {},
   "outputs": [],
   "source": [
    "import numpy as np\n",
    "import pandas as pd\n",
    "import matplotlib.pyplot as plt\n",
    "import plotly.express as px\n",
    "from sklearn import preprocessing\n",
    "from sklearn.linear_model import LinearRegression\n",
    "from sklearn import model_selection\n",
    "from sklearn.metrics import r2_score\n",
    "from sklearn.model_selection import train_test_split,GridSearchCV\n",
    "from sklearn.neighbors import KNeighborsClassifier\n",
    "from sklearn.tree import DecisionTreeClassifier\n",
    "from sklearn.ensemble import RandomForestClassifier\n",
    "from sklearn.metrics import accuracy_score,classification_report,confusion_matrix"
   ]
  },
  {
   "cell_type": "code",
   "execution_count": 138,
   "metadata": {},
   "outputs": [
    {
     "data": {
      "text/html": [
       "<div>\n",
       "<style scoped>\n",
       "    .dataframe tbody tr th:only-of-type {\n",
       "        vertical-align: middle;\n",
       "    }\n",
       "\n",
       "    .dataframe tbody tr th {\n",
       "        vertical-align: top;\n",
       "    }\n",
       "\n",
       "    .dataframe thead th {\n",
       "        text-align: right;\n",
       "    }\n",
       "</style>\n",
       "<table border=\"1\" class=\"dataframe\">\n",
       "  <thead>\n",
       "    <tr style=\"text-align: right;\">\n",
       "      <th></th>\n",
       "      <th>Total.Cup.Points</th>\n",
       "      <th>Species</th>\n",
       "      <th>Country.of.Origin</th>\n",
       "      <th>Processing.Method</th>\n",
       "      <th>Aroma</th>\n",
       "      <th>Flavor</th>\n",
       "      <th>Aftertaste</th>\n",
       "      <th>Acidity</th>\n",
       "      <th>Body</th>\n",
       "      <th>Balance</th>\n",
       "      <th>Uniformity</th>\n",
       "      <th>Moisture</th>\n",
       "      <th>altitude_mean_meters</th>\n",
       "    </tr>\n",
       "  </thead>\n",
       "  <tbody>\n",
       "    <tr>\n",
       "      <th>0</th>\n",
       "      <td>90.58</td>\n",
       "      <td>Arabica</td>\n",
       "      <td>Ethiopia</td>\n",
       "      <td>Washed / Wet</td>\n",
       "      <td>8.67</td>\n",
       "      <td>8.83</td>\n",
       "      <td>8.67</td>\n",
       "      <td>8.75</td>\n",
       "      <td>8.50</td>\n",
       "      <td>8.42</td>\n",
       "      <td>10.00</td>\n",
       "      <td>0.12</td>\n",
       "      <td>2075.00</td>\n",
       "    </tr>\n",
       "    <tr>\n",
       "      <th>1</th>\n",
       "      <td>89.92</td>\n",
       "      <td>Arabica</td>\n",
       "      <td>Ethiopia</td>\n",
       "      <td>Washed / Wet</td>\n",
       "      <td>8.75</td>\n",
       "      <td>8.67</td>\n",
       "      <td>8.50</td>\n",
       "      <td>8.58</td>\n",
       "      <td>8.42</td>\n",
       "      <td>8.42</td>\n",
       "      <td>10.00</td>\n",
       "      <td>0.12</td>\n",
       "      <td>2075.00</td>\n",
       "    </tr>\n",
       "    <tr>\n",
       "      <th>2</th>\n",
       "      <td>89.75</td>\n",
       "      <td>Arabica</td>\n",
       "      <td>Guatemala</td>\n",
       "      <td>NaN</td>\n",
       "      <td>8.42</td>\n",
       "      <td>8.50</td>\n",
       "      <td>8.42</td>\n",
       "      <td>8.42</td>\n",
       "      <td>8.33</td>\n",
       "      <td>8.42</td>\n",
       "      <td>10.00</td>\n",
       "      <td>0.00</td>\n",
       "      <td>1700.00</td>\n",
       "    </tr>\n",
       "    <tr>\n",
       "      <th>3</th>\n",
       "      <td>89.00</td>\n",
       "      <td>Arabica</td>\n",
       "      <td>Ethiopia</td>\n",
       "      <td>Natural / Dry</td>\n",
       "      <td>8.17</td>\n",
       "      <td>8.58</td>\n",
       "      <td>8.42</td>\n",
       "      <td>8.42</td>\n",
       "      <td>8.50</td>\n",
       "      <td>8.25</td>\n",
       "      <td>10.00</td>\n",
       "      <td>0.11</td>\n",
       "      <td>2000.00</td>\n",
       "    </tr>\n",
       "    <tr>\n",
       "      <th>4</th>\n",
       "      <td>88.83</td>\n",
       "      <td>Arabica</td>\n",
       "      <td>Ethiopia</td>\n",
       "      <td>Washed / Wet</td>\n",
       "      <td>8.25</td>\n",
       "      <td>8.50</td>\n",
       "      <td>8.25</td>\n",
       "      <td>8.50</td>\n",
       "      <td>8.42</td>\n",
       "      <td>8.33</td>\n",
       "      <td>10.00</td>\n",
       "      <td>0.12</td>\n",
       "      <td>2075.00</td>\n",
       "    </tr>\n",
       "    <tr>\n",
       "      <th>...</th>\n",
       "      <td>...</td>\n",
       "      <td>...</td>\n",
       "      <td>...</td>\n",
       "      <td>...</td>\n",
       "      <td>...</td>\n",
       "      <td>...</td>\n",
       "      <td>...</td>\n",
       "      <td>...</td>\n",
       "      <td>...</td>\n",
       "      <td>...</td>\n",
       "      <td>...</td>\n",
       "      <td>...</td>\n",
       "      <td>...</td>\n",
       "    </tr>\n",
       "    <tr>\n",
       "      <th>1306</th>\n",
       "      <td>68.33</td>\n",
       "      <td>Arabica</td>\n",
       "      <td>Mexico</td>\n",
       "      <td>Washed / Wet</td>\n",
       "      <td>7.08</td>\n",
       "      <td>6.83</td>\n",
       "      <td>6.25</td>\n",
       "      <td>7.42</td>\n",
       "      <td>7.25</td>\n",
       "      <td>6.75</td>\n",
       "      <td>10.00</td>\n",
       "      <td>0.11</td>\n",
       "      <td>900.00</td>\n",
       "    </tr>\n",
       "    <tr>\n",
       "      <th>1307</th>\n",
       "      <td>67.92</td>\n",
       "      <td>Arabica</td>\n",
       "      <td>Haiti</td>\n",
       "      <td>Natural / Dry</td>\n",
       "      <td>6.75</td>\n",
       "      <td>6.58</td>\n",
       "      <td>6.42</td>\n",
       "      <td>6.67</td>\n",
       "      <td>7.08</td>\n",
       "      <td>6.67</td>\n",
       "      <td>9.33</td>\n",
       "      <td>0.14</td>\n",
       "      <td>350.00</td>\n",
       "    </tr>\n",
       "    <tr>\n",
       "      <th>1308</th>\n",
       "      <td>63.08</td>\n",
       "      <td>Arabica</td>\n",
       "      <td>Nicaragua</td>\n",
       "      <td>Other</td>\n",
       "      <td>7.25</td>\n",
       "      <td>6.58</td>\n",
       "      <td>6.33</td>\n",
       "      <td>6.25</td>\n",
       "      <td>6.42</td>\n",
       "      <td>6.08</td>\n",
       "      <td>6.00</td>\n",
       "      <td>0.13</td>\n",
       "      <td>1100.00</td>\n",
       "    </tr>\n",
       "    <tr>\n",
       "      <th>1309</th>\n",
       "      <td>59.83</td>\n",
       "      <td>Arabica</td>\n",
       "      <td>Guatemala</td>\n",
       "      <td>Washed / Wet</td>\n",
       "      <td>7.50</td>\n",
       "      <td>6.67</td>\n",
       "      <td>6.67</td>\n",
       "      <td>7.67</td>\n",
       "      <td>7.33</td>\n",
       "      <td>6.67</td>\n",
       "      <td>8.00</td>\n",
       "      <td>0.10</td>\n",
       "      <td>1417.32</td>\n",
       "    </tr>\n",
       "    <tr>\n",
       "      <th>1310</th>\n",
       "      <td>0.00</td>\n",
       "      <td>Arabica</td>\n",
       "      <td>Honduras</td>\n",
       "      <td>NaN</td>\n",
       "      <td>0.00</td>\n",
       "      <td>0.00</td>\n",
       "      <td>0.00</td>\n",
       "      <td>0.00</td>\n",
       "      <td>0.00</td>\n",
       "      <td>0.00</td>\n",
       "      <td>0.00</td>\n",
       "      <td>0.12</td>\n",
       "      <td>1400.00</td>\n",
       "    </tr>\n",
       "  </tbody>\n",
       "</table>\n",
       "<p>1311 rows × 13 columns</p>\n",
       "</div>"
      ],
      "text/plain": [
       "      Total.Cup.Points  Species Country.of.Origin Processing.Method  Aroma  \\\n",
       "0                90.58  Arabica          Ethiopia      Washed / Wet   8.67   \n",
       "1                89.92  Arabica          Ethiopia      Washed / Wet   8.75   \n",
       "2                89.75  Arabica         Guatemala               NaN   8.42   \n",
       "3                89.00  Arabica          Ethiopia     Natural / Dry   8.17   \n",
       "4                88.83  Arabica          Ethiopia      Washed / Wet   8.25   \n",
       "...                ...      ...               ...               ...    ...   \n",
       "1306             68.33  Arabica            Mexico      Washed / Wet   7.08   \n",
       "1307             67.92  Arabica             Haiti     Natural / Dry   6.75   \n",
       "1308             63.08  Arabica         Nicaragua             Other   7.25   \n",
       "1309             59.83  Arabica         Guatemala      Washed / Wet   7.50   \n",
       "1310              0.00  Arabica          Honduras               NaN   0.00   \n",
       "\n",
       "      Flavor  Aftertaste  Acidity  Body  Balance  Uniformity  Moisture  \\\n",
       "0       8.83        8.67     8.75  8.50     8.42       10.00      0.12   \n",
       "1       8.67        8.50     8.58  8.42     8.42       10.00      0.12   \n",
       "2       8.50        8.42     8.42  8.33     8.42       10.00      0.00   \n",
       "3       8.58        8.42     8.42  8.50     8.25       10.00      0.11   \n",
       "4       8.50        8.25     8.50  8.42     8.33       10.00      0.12   \n",
       "...      ...         ...      ...   ...      ...         ...       ...   \n",
       "1306    6.83        6.25     7.42  7.25     6.75       10.00      0.11   \n",
       "1307    6.58        6.42     6.67  7.08     6.67        9.33      0.14   \n",
       "1308    6.58        6.33     6.25  6.42     6.08        6.00      0.13   \n",
       "1309    6.67        6.67     7.67  7.33     6.67        8.00      0.10   \n",
       "1310    0.00        0.00     0.00  0.00     0.00        0.00      0.12   \n",
       "\n",
       "      altitude_mean_meters  \n",
       "0                  2075.00  \n",
       "1                  2075.00  \n",
       "2                  1700.00  \n",
       "3                  2000.00  \n",
       "4                  2075.00  \n",
       "...                    ...  \n",
       "1306                900.00  \n",
       "1307                350.00  \n",
       "1308               1100.00  \n",
       "1309               1417.32  \n",
       "1310               1400.00  \n",
       "\n",
       "[1311 rows x 13 columns]"
      ]
     },
     "execution_count": 138,
     "metadata": {},
     "output_type": "execute_result"
    }
   ],
   "source": [
    "# Load data from csv file\n",
    "data = pd.read_csv(\"Coffee-modified.csv\")\n",
    "selected_data = data.loc[:,['Total.Cup.Points',\n",
    "                            'Species',\n",
    "                            'Country.of.Origin',\n",
    "                            'Processing.Method',\n",
    "                            'Aroma',\n",
    "                            'Flavor',\n",
    "                            'Aftertaste', \n",
    "                            'Acidity',\n",
    "                            'Body',\n",
    "                            'Balance',\n",
    "                            'Uniformity',\n",
    "                            'Moisture',\n",
    "                            'altitude_mean_meters']]\n",
    "selected_data"
   ]
  },
  {
   "cell_type": "code",
   "execution_count": 139,
   "metadata": {},
   "outputs": [
    {
     "data": {
      "text/html": [
       "<div>\n",
       "<style scoped>\n",
       "    .dataframe tbody tr th:only-of-type {\n",
       "        vertical-align: middle;\n",
       "    }\n",
       "\n",
       "    .dataframe tbody tr th {\n",
       "        vertical-align: top;\n",
       "    }\n",
       "\n",
       "    .dataframe thead th {\n",
       "        text-align: right;\n",
       "    }\n",
       "</style>\n",
       "<table border=\"1\" class=\"dataframe\">\n",
       "  <thead>\n",
       "    <tr style=\"text-align: right;\">\n",
       "      <th></th>\n",
       "      <th>Total.Cup.Points</th>\n",
       "      <th>Aroma</th>\n",
       "      <th>Flavor</th>\n",
       "      <th>Aftertaste</th>\n",
       "      <th>Acidity</th>\n",
       "      <th>Body</th>\n",
       "      <th>Balance</th>\n",
       "      <th>Uniformity</th>\n",
       "      <th>Moisture</th>\n",
       "      <th>altitude_mean_meters</th>\n",
       "    </tr>\n",
       "  </thead>\n",
       "  <tbody>\n",
       "    <tr>\n",
       "      <th>count</th>\n",
       "      <td>1003.000000</td>\n",
       "      <td>1003.000000</td>\n",
       "      <td>1003.000000</td>\n",
       "      <td>1003.000000</td>\n",
       "      <td>1003.000000</td>\n",
       "      <td>1003.000000</td>\n",
       "      <td>1003.000000</td>\n",
       "      <td>1003.000000</td>\n",
       "      <td>1003.000000</td>\n",
       "      <td>1003.000000</td>\n",
       "    </tr>\n",
       "    <tr>\n",
       "      <th>mean</th>\n",
       "      <td>82.126949</td>\n",
       "      <td>7.567488</td>\n",
       "      <td>7.513779</td>\n",
       "      <td>7.385633</td>\n",
       "      <td>7.526221</td>\n",
       "      <td>7.504287</td>\n",
       "      <td>7.499302</td>\n",
       "      <td>9.870219</td>\n",
       "      <td>0.094985</td>\n",
       "      <td>1816.792017</td>\n",
       "    </tr>\n",
       "    <tr>\n",
       "      <th>std</th>\n",
       "      <td>2.631610</td>\n",
       "      <td>0.301361</td>\n",
       "      <td>0.324487</td>\n",
       "      <td>0.332735</td>\n",
       "      <td>0.307827</td>\n",
       "      <td>0.272824</td>\n",
       "      <td>0.340801</td>\n",
       "      <td>0.445371</td>\n",
       "      <td>0.043468</td>\n",
       "      <td>9112.472930</td>\n",
       "    </tr>\n",
       "    <tr>\n",
       "      <th>min</th>\n",
       "      <td>59.830000</td>\n",
       "      <td>5.080000</td>\n",
       "      <td>6.170000</td>\n",
       "      <td>6.170000</td>\n",
       "      <td>5.250000</td>\n",
       "      <td>6.330000</td>\n",
       "      <td>6.080000</td>\n",
       "      <td>6.000000</td>\n",
       "      <td>0.000000</td>\n",
       "      <td>1.000000</td>\n",
       "    </tr>\n",
       "    <tr>\n",
       "      <th>25%</th>\n",
       "      <td>81.170000</td>\n",
       "      <td>7.420000</td>\n",
       "      <td>7.330000</td>\n",
       "      <td>7.170000</td>\n",
       "      <td>7.330000</td>\n",
       "      <td>7.330000</td>\n",
       "      <td>7.330000</td>\n",
       "      <td>10.000000</td>\n",
       "      <td>0.100000</td>\n",
       "      <td>1100.000000</td>\n",
       "    </tr>\n",
       "    <tr>\n",
       "      <th>50%</th>\n",
       "      <td>82.420000</td>\n",
       "      <td>7.580000</td>\n",
       "      <td>7.500000</td>\n",
       "      <td>7.420000</td>\n",
       "      <td>7.500000</td>\n",
       "      <td>7.500000</td>\n",
       "      <td>7.500000</td>\n",
       "      <td>10.000000</td>\n",
       "      <td>0.110000</td>\n",
       "      <td>1310.640000</td>\n",
       "    </tr>\n",
       "    <tr>\n",
       "      <th>75%</th>\n",
       "      <td>83.580000</td>\n",
       "      <td>7.750000</td>\n",
       "      <td>7.670000</td>\n",
       "      <td>7.580000</td>\n",
       "      <td>7.670000</td>\n",
       "      <td>7.670000</td>\n",
       "      <td>7.670000</td>\n",
       "      <td>10.000000</td>\n",
       "      <td>0.120000</td>\n",
       "      <td>1600.000000</td>\n",
       "    </tr>\n",
       "    <tr>\n",
       "      <th>max</th>\n",
       "      <td>90.580000</td>\n",
       "      <td>8.750000</td>\n",
       "      <td>8.830000</td>\n",
       "      <td>8.670000</td>\n",
       "      <td>8.750000</td>\n",
       "      <td>8.500000</td>\n",
       "      <td>8.580000</td>\n",
       "      <td>10.000000</td>\n",
       "      <td>0.170000</td>\n",
       "      <td>190164.000000</td>\n",
       "    </tr>\n",
       "  </tbody>\n",
       "</table>\n",
       "</div>"
      ],
      "text/plain": [
       "       Total.Cup.Points        Aroma       Flavor   Aftertaste      Acidity  \\\n",
       "count       1003.000000  1003.000000  1003.000000  1003.000000  1003.000000   \n",
       "mean          82.126949     7.567488     7.513779     7.385633     7.526221   \n",
       "std            2.631610     0.301361     0.324487     0.332735     0.307827   \n",
       "min           59.830000     5.080000     6.170000     6.170000     5.250000   \n",
       "25%           81.170000     7.420000     7.330000     7.170000     7.330000   \n",
       "50%           82.420000     7.580000     7.500000     7.420000     7.500000   \n",
       "75%           83.580000     7.750000     7.670000     7.580000     7.670000   \n",
       "max           90.580000     8.750000     8.830000     8.670000     8.750000   \n",
       "\n",
       "              Body      Balance   Uniformity     Moisture  \\\n",
       "count  1003.000000  1003.000000  1003.000000  1003.000000   \n",
       "mean      7.504287     7.499302     9.870219     0.094985   \n",
       "std       0.272824     0.340801     0.445371     0.043468   \n",
       "min       6.330000     6.080000     6.000000     0.000000   \n",
       "25%       7.330000     7.330000    10.000000     0.100000   \n",
       "50%       7.500000     7.500000    10.000000     0.110000   \n",
       "75%       7.670000     7.670000    10.000000     0.120000   \n",
       "max       8.500000     8.580000    10.000000     0.170000   \n",
       "\n",
       "       altitude_mean_meters  \n",
       "count           1003.000000  \n",
       "mean            1816.792017  \n",
       "std             9112.472930  \n",
       "min                1.000000  \n",
       "25%             1100.000000  \n",
       "50%             1310.640000  \n",
       "75%             1600.000000  \n",
       "max           190164.000000  "
      ]
     },
     "execution_count": 139,
     "metadata": {},
     "output_type": "execute_result"
    }
   ],
   "source": [
    "#Data Preparation\n",
    "selected_data.dropna(inplace=True)\n",
    "selected_data.describe()"
   ]
  },
  {
   "cell_type": "code",
   "execution_count": 140,
   "metadata": {},
   "outputs": [
    {
     "data": {
      "text/html": [
       "<div>\n",
       "<style scoped>\n",
       "    .dataframe tbody tr th:only-of-type {\n",
       "        vertical-align: middle;\n",
       "    }\n",
       "\n",
       "    .dataframe tbody tr th {\n",
       "        vertical-align: top;\n",
       "    }\n",
       "\n",
       "    .dataframe thead th {\n",
       "        text-align: right;\n",
       "    }\n",
       "</style>\n",
       "<table border=\"1\" class=\"dataframe\">\n",
       "  <thead>\n",
       "    <tr style=\"text-align: right;\">\n",
       "      <th></th>\n",
       "      <th>Species</th>\n",
       "      <th>Country.of.Origin</th>\n",
       "      <th>Processing.Method</th>\n",
       "      <th>Aroma</th>\n",
       "      <th>Flavor</th>\n",
       "      <th>Aftertaste</th>\n",
       "      <th>Acidity</th>\n",
       "      <th>Body</th>\n",
       "      <th>Balance</th>\n",
       "      <th>Uniformity</th>\n",
       "      <th>Moisture</th>\n",
       "      <th>altitude_mean_meters</th>\n",
       "    </tr>\n",
       "  </thead>\n",
       "  <tbody>\n",
       "    <tr>\n",
       "      <th>0</th>\n",
       "      <td>Arabica</td>\n",
       "      <td>Ethiopia</td>\n",
       "      <td>Washed / Wet</td>\n",
       "      <td>8.67</td>\n",
       "      <td>8.83</td>\n",
       "      <td>8.67</td>\n",
       "      <td>8.75</td>\n",
       "      <td>8.50</td>\n",
       "      <td>8.42</td>\n",
       "      <td>10.00</td>\n",
       "      <td>0.12</td>\n",
       "      <td>2075.00</td>\n",
       "    </tr>\n",
       "    <tr>\n",
       "      <th>1</th>\n",
       "      <td>Arabica</td>\n",
       "      <td>Ethiopia</td>\n",
       "      <td>Washed / Wet</td>\n",
       "      <td>8.75</td>\n",
       "      <td>8.67</td>\n",
       "      <td>8.50</td>\n",
       "      <td>8.58</td>\n",
       "      <td>8.42</td>\n",
       "      <td>8.42</td>\n",
       "      <td>10.00</td>\n",
       "      <td>0.12</td>\n",
       "      <td>2075.00</td>\n",
       "    </tr>\n",
       "    <tr>\n",
       "      <th>2</th>\n",
       "      <td>Arabica</td>\n",
       "      <td>Ethiopia</td>\n",
       "      <td>Natural / Dry</td>\n",
       "      <td>8.17</td>\n",
       "      <td>8.58</td>\n",
       "      <td>8.42</td>\n",
       "      <td>8.42</td>\n",
       "      <td>8.50</td>\n",
       "      <td>8.25</td>\n",
       "      <td>10.00</td>\n",
       "      <td>0.11</td>\n",
       "      <td>2000.00</td>\n",
       "    </tr>\n",
       "    <tr>\n",
       "      <th>3</th>\n",
       "      <td>Arabica</td>\n",
       "      <td>Ethiopia</td>\n",
       "      <td>Washed / Wet</td>\n",
       "      <td>8.25</td>\n",
       "      <td>8.50</td>\n",
       "      <td>8.25</td>\n",
       "      <td>8.50</td>\n",
       "      <td>8.42</td>\n",
       "      <td>8.33</td>\n",
       "      <td>10.00</td>\n",
       "      <td>0.12</td>\n",
       "      <td>2075.00</td>\n",
       "    </tr>\n",
       "    <tr>\n",
       "      <th>4</th>\n",
       "      <td>Arabica</td>\n",
       "      <td>Ethiopia</td>\n",
       "      <td>Natural / Dry</td>\n",
       "      <td>8.08</td>\n",
       "      <td>8.58</td>\n",
       "      <td>8.50</td>\n",
       "      <td>8.50</td>\n",
       "      <td>7.67</td>\n",
       "      <td>8.42</td>\n",
       "      <td>10.00</td>\n",
       "      <td>0.10</td>\n",
       "      <td>1822.50</td>\n",
       "    </tr>\n",
       "    <tr>\n",
       "      <th>...</th>\n",
       "      <td>...</td>\n",
       "      <td>...</td>\n",
       "      <td>...</td>\n",
       "      <td>...</td>\n",
       "      <td>...</td>\n",
       "      <td>...</td>\n",
       "      <td>...</td>\n",
       "      <td>...</td>\n",
       "      <td>...</td>\n",
       "      <td>...</td>\n",
       "      <td>...</td>\n",
       "      <td>...</td>\n",
       "    </tr>\n",
       "    <tr>\n",
       "      <th>998</th>\n",
       "      <td>Arabica</td>\n",
       "      <td>Honduras</td>\n",
       "      <td>Washed / Wet</td>\n",
       "      <td>7.00</td>\n",
       "      <td>6.33</td>\n",
       "      <td>6.17</td>\n",
       "      <td>6.50</td>\n",
       "      <td>6.67</td>\n",
       "      <td>6.17</td>\n",
       "      <td>8.00</td>\n",
       "      <td>0.10</td>\n",
       "      <td>1450.00</td>\n",
       "    </tr>\n",
       "    <tr>\n",
       "      <th>999</th>\n",
       "      <td>Arabica</td>\n",
       "      <td>Mexico</td>\n",
       "      <td>Washed / Wet</td>\n",
       "      <td>7.08</td>\n",
       "      <td>6.83</td>\n",
       "      <td>6.25</td>\n",
       "      <td>7.42</td>\n",
       "      <td>7.25</td>\n",
       "      <td>6.75</td>\n",
       "      <td>10.00</td>\n",
       "      <td>0.11</td>\n",
       "      <td>900.00</td>\n",
       "    </tr>\n",
       "    <tr>\n",
       "      <th>1000</th>\n",
       "      <td>Arabica</td>\n",
       "      <td>Haiti</td>\n",
       "      <td>Natural / Dry</td>\n",
       "      <td>6.75</td>\n",
       "      <td>6.58</td>\n",
       "      <td>6.42</td>\n",
       "      <td>6.67</td>\n",
       "      <td>7.08</td>\n",
       "      <td>6.67</td>\n",
       "      <td>9.33</td>\n",
       "      <td>0.14</td>\n",
       "      <td>350.00</td>\n",
       "    </tr>\n",
       "    <tr>\n",
       "      <th>1001</th>\n",
       "      <td>Arabica</td>\n",
       "      <td>Nicaragua</td>\n",
       "      <td>Other</td>\n",
       "      <td>7.25</td>\n",
       "      <td>6.58</td>\n",
       "      <td>6.33</td>\n",
       "      <td>6.25</td>\n",
       "      <td>6.42</td>\n",
       "      <td>6.08</td>\n",
       "      <td>6.00</td>\n",
       "      <td>0.13</td>\n",
       "      <td>1100.00</td>\n",
       "    </tr>\n",
       "    <tr>\n",
       "      <th>1002</th>\n",
       "      <td>Arabica</td>\n",
       "      <td>Guatemala</td>\n",
       "      <td>Washed / Wet</td>\n",
       "      <td>7.50</td>\n",
       "      <td>6.67</td>\n",
       "      <td>6.67</td>\n",
       "      <td>7.67</td>\n",
       "      <td>7.33</td>\n",
       "      <td>6.67</td>\n",
       "      <td>8.00</td>\n",
       "      <td>0.10</td>\n",
       "      <td>1417.32</td>\n",
       "    </tr>\n",
       "  </tbody>\n",
       "</table>\n",
       "<p>1003 rows × 12 columns</p>\n",
       "</div>"
      ],
      "text/plain": [
       "      Species Country.of.Origin Processing.Method  Aroma  Flavor  Aftertaste  \\\n",
       "0     Arabica          Ethiopia      Washed / Wet   8.67    8.83        8.67   \n",
       "1     Arabica          Ethiopia      Washed / Wet   8.75    8.67        8.50   \n",
       "2     Arabica          Ethiopia     Natural / Dry   8.17    8.58        8.42   \n",
       "3     Arabica          Ethiopia      Washed / Wet   8.25    8.50        8.25   \n",
       "4     Arabica          Ethiopia     Natural / Dry   8.08    8.58        8.50   \n",
       "...       ...               ...               ...    ...     ...         ...   \n",
       "998   Arabica          Honduras      Washed / Wet   7.00    6.33        6.17   \n",
       "999   Arabica            Mexico      Washed / Wet   7.08    6.83        6.25   \n",
       "1000  Arabica             Haiti     Natural / Dry   6.75    6.58        6.42   \n",
       "1001  Arabica         Nicaragua             Other   7.25    6.58        6.33   \n",
       "1002  Arabica         Guatemala      Washed / Wet   7.50    6.67        6.67   \n",
       "\n",
       "      Acidity  Body  Balance  Uniformity  Moisture  altitude_mean_meters  \n",
       "0        8.75  8.50     8.42       10.00      0.12               2075.00  \n",
       "1        8.58  8.42     8.42       10.00      0.12               2075.00  \n",
       "2        8.42  8.50     8.25       10.00      0.11               2000.00  \n",
       "3        8.50  8.42     8.33       10.00      0.12               2075.00  \n",
       "4        8.50  7.67     8.42       10.00      0.10               1822.50  \n",
       "...       ...   ...      ...         ...       ...                   ...  \n",
       "998      6.50  6.67     6.17        8.00      0.10               1450.00  \n",
       "999      7.42  7.25     6.75       10.00      0.11                900.00  \n",
       "1000     6.67  7.08     6.67        9.33      0.14                350.00  \n",
       "1001     6.25  6.42     6.08        6.00      0.13               1100.00  \n",
       "1002     7.67  7.33     6.67        8.00      0.10               1417.32  \n",
       "\n",
       "[1003 rows x 12 columns]"
      ]
     },
     "execution_count": 140,
     "metadata": {},
     "output_type": "execute_result"
    }
   ],
   "source": [
    "# Assign X, Y (drop datetime index)\n",
    "Y = selected_data.iloc[:,0:1]\n",
    "Y = Y.reset_index(drop=True)\n",
    "X = selected_data.iloc[:,1:]\n",
    "X = X.reset_index(drop=True)\n",
    "X"
   ]
  },
  {
   "cell_type": "code",
   "execution_count": 141,
   "metadata": {},
   "outputs": [
    {
     "data": {
      "text/html": [
       "<div>\n",
       "<style scoped>\n",
       "    .dataframe tbody tr th:only-of-type {\n",
       "        vertical-align: middle;\n",
       "    }\n",
       "\n",
       "    .dataframe tbody tr th {\n",
       "        vertical-align: top;\n",
       "    }\n",
       "\n",
       "    .dataframe thead th {\n",
       "        text-align: right;\n",
       "    }\n",
       "</style>\n",
       "<table border=\"1\" class=\"dataframe\">\n",
       "  <thead>\n",
       "    <tr style=\"text-align: right;\">\n",
       "      <th></th>\n",
       "      <th>bean_grade</th>\n",
       "    </tr>\n",
       "  </thead>\n",
       "  <tbody>\n",
       "    <tr>\n",
       "      <th>0</th>\n",
       "      <td>3</td>\n",
       "    </tr>\n",
       "    <tr>\n",
       "      <th>1</th>\n",
       "      <td>3</td>\n",
       "    </tr>\n",
       "    <tr>\n",
       "      <th>2</th>\n",
       "      <td>3</td>\n",
       "    </tr>\n",
       "    <tr>\n",
       "      <th>3</th>\n",
       "      <td>3</td>\n",
       "    </tr>\n",
       "    <tr>\n",
       "      <th>4</th>\n",
       "      <td>3</td>\n",
       "    </tr>\n",
       "    <tr>\n",
       "      <th>...</th>\n",
       "      <td>...</td>\n",
       "    </tr>\n",
       "    <tr>\n",
       "      <th>998</th>\n",
       "      <td>1</td>\n",
       "    </tr>\n",
       "    <tr>\n",
       "      <th>999</th>\n",
       "      <td>1</td>\n",
       "    </tr>\n",
       "    <tr>\n",
       "      <th>1000</th>\n",
       "      <td>1</td>\n",
       "    </tr>\n",
       "    <tr>\n",
       "      <th>1001</th>\n",
       "      <td>1</td>\n",
       "    </tr>\n",
       "    <tr>\n",
       "      <th>1002</th>\n",
       "      <td>1</td>\n",
       "    </tr>\n",
       "  </tbody>\n",
       "</table>\n",
       "<p>1003 rows × 1 columns</p>\n",
       "</div>"
      ],
      "text/plain": [
       "      bean_grade\n",
       "0              3\n",
       "1              3\n",
       "2              3\n",
       "3              3\n",
       "4              3\n",
       "...          ...\n",
       "998            1\n",
       "999            1\n",
       "1000           1\n",
       "1001           1\n",
       "1002           1\n",
       "\n",
       "[1003 rows x 1 columns]"
      ]
     },
     "execution_count": 141,
     "metadata": {},
     "output_type": "execute_result"
    }
   ],
   "source": [
    "# Prepare Y\n",
    "# Process Y from values to Coffee Bean Grade\n",
    "bean_grade = [0,0,0]\n",
    "bean_amount = []\n",
    "rating_pctile = np.percentile(Y,[75,90])\n",
    "for i in range(len(Y.index)):\n",
    "    #75 percentile\n",
    "    if Y['Total.Cup.Points'][i] < rating_pctile [0]:\n",
    "        bean_grade[0] +=  1\n",
    "        bean_amount.append(1)\n",
    "    # 90 percentile\n",
    "    if rating_pctile [0] <= Y['Total.Cup.Points'][i] < rating_pctile [1]:\n",
    "        bean_grade[1] +=  1\n",
    "        bean_amount.append(2)\n",
    "    # 100 percentile\n",
    "    if Y['Total.Cup.Points'][i] >= rating_pctile[1]:\n",
    "        bean_grade[2] +=  1\n",
    "        bean_amount.append(3)\n",
    "bean_amount = pd.DataFrame(data={'bean_grade':bean_amount})\n",
    "bean_amount"
   ]
  },
  {
   "cell_type": "code",
   "execution_count": 142,
   "metadata": {},
   "outputs": [
    {
     "data": {
      "application/vnd.plotly.v1+json": {
       "config": {
        "plotlyServerURL": "https://plot.ly"
       },
       "data": [
        {
         "alignmentgroup": "True",
         "hovertemplate": "x=%{x}<br>y=%{y}<br>color=%{marker.color}<extra></extra>",
         "legendgroup": "",
         "marker": {
          "color": [
           746,
           152,
           105
          ],
          "coloraxis": "coloraxis",
          "pattern": {
           "shape": ""
          }
         },
         "name": "",
         "offsetgroup": "",
         "orientation": "v",
         "showlegend": false,
         "textposition": "auto",
         "type": "bar",
         "x": [
          1,
          2,
          3
         ],
         "xaxis": "x",
         "y": [
          746,
          152,
          105
         ],
         "yaxis": "y"
        }
       ],
       "layout": {
        "barmode": "relative",
        "coloraxis": {
         "colorbar": {
          "title": {
           "text": "color"
          }
         },
         "colorscale": [
          [
           0,
           "#0d0887"
          ],
          [
           0.1111111111111111,
           "#46039f"
          ],
          [
           0.2222222222222222,
           "#7201a8"
          ],
          [
           0.3333333333333333,
           "#9c179e"
          ],
          [
           0.4444444444444444,
           "#bd3786"
          ],
          [
           0.5555555555555556,
           "#d8576b"
          ],
          [
           0.6666666666666666,
           "#ed7953"
          ],
          [
           0.7777777777777778,
           "#fb9f3a"
          ],
          [
           0.8888888888888888,
           "#fdca26"
          ],
          [
           1,
           "#f0f921"
          ]
         ]
        },
        "legend": {
         "tracegroupgap": 0
        },
        "margin": {
         "t": 60
        },
        "template": {
         "data": {
          "bar": [
           {
            "error_x": {
             "color": "#2a3f5f"
            },
            "error_y": {
             "color": "#2a3f5f"
            },
            "marker": {
             "line": {
              "color": "#E5ECF6",
              "width": 0.5
             },
             "pattern": {
              "fillmode": "overlay",
              "size": 10,
              "solidity": 0.2
             }
            },
            "type": "bar"
           }
          ],
          "barpolar": [
           {
            "marker": {
             "line": {
              "color": "#E5ECF6",
              "width": 0.5
             },
             "pattern": {
              "fillmode": "overlay",
              "size": 10,
              "solidity": 0.2
             }
            },
            "type": "barpolar"
           }
          ],
          "carpet": [
           {
            "aaxis": {
             "endlinecolor": "#2a3f5f",
             "gridcolor": "white",
             "linecolor": "white",
             "minorgridcolor": "white",
             "startlinecolor": "#2a3f5f"
            },
            "baxis": {
             "endlinecolor": "#2a3f5f",
             "gridcolor": "white",
             "linecolor": "white",
             "minorgridcolor": "white",
             "startlinecolor": "#2a3f5f"
            },
            "type": "carpet"
           }
          ],
          "choropleth": [
           {
            "colorbar": {
             "outlinewidth": 0,
             "ticks": ""
            },
            "type": "choropleth"
           }
          ],
          "contour": [
           {
            "colorbar": {
             "outlinewidth": 0,
             "ticks": ""
            },
            "colorscale": [
             [
              0,
              "#0d0887"
             ],
             [
              0.1111111111111111,
              "#46039f"
             ],
             [
              0.2222222222222222,
              "#7201a8"
             ],
             [
              0.3333333333333333,
              "#9c179e"
             ],
             [
              0.4444444444444444,
              "#bd3786"
             ],
             [
              0.5555555555555556,
              "#d8576b"
             ],
             [
              0.6666666666666666,
              "#ed7953"
             ],
             [
              0.7777777777777778,
              "#fb9f3a"
             ],
             [
              0.8888888888888888,
              "#fdca26"
             ],
             [
              1,
              "#f0f921"
             ]
            ],
            "type": "contour"
           }
          ],
          "contourcarpet": [
           {
            "colorbar": {
             "outlinewidth": 0,
             "ticks": ""
            },
            "type": "contourcarpet"
           }
          ],
          "heatmap": [
           {
            "colorbar": {
             "outlinewidth": 0,
             "ticks": ""
            },
            "colorscale": [
             [
              0,
              "#0d0887"
             ],
             [
              0.1111111111111111,
              "#46039f"
             ],
             [
              0.2222222222222222,
              "#7201a8"
             ],
             [
              0.3333333333333333,
              "#9c179e"
             ],
             [
              0.4444444444444444,
              "#bd3786"
             ],
             [
              0.5555555555555556,
              "#d8576b"
             ],
             [
              0.6666666666666666,
              "#ed7953"
             ],
             [
              0.7777777777777778,
              "#fb9f3a"
             ],
             [
              0.8888888888888888,
              "#fdca26"
             ],
             [
              1,
              "#f0f921"
             ]
            ],
            "type": "heatmap"
           }
          ],
          "heatmapgl": [
           {
            "colorbar": {
             "outlinewidth": 0,
             "ticks": ""
            },
            "colorscale": [
             [
              0,
              "#0d0887"
             ],
             [
              0.1111111111111111,
              "#46039f"
             ],
             [
              0.2222222222222222,
              "#7201a8"
             ],
             [
              0.3333333333333333,
              "#9c179e"
             ],
             [
              0.4444444444444444,
              "#bd3786"
             ],
             [
              0.5555555555555556,
              "#d8576b"
             ],
             [
              0.6666666666666666,
              "#ed7953"
             ],
             [
              0.7777777777777778,
              "#fb9f3a"
             ],
             [
              0.8888888888888888,
              "#fdca26"
             ],
             [
              1,
              "#f0f921"
             ]
            ],
            "type": "heatmapgl"
           }
          ],
          "histogram": [
           {
            "marker": {
             "pattern": {
              "fillmode": "overlay",
              "size": 10,
              "solidity": 0.2
             }
            },
            "type": "histogram"
           }
          ],
          "histogram2d": [
           {
            "colorbar": {
             "outlinewidth": 0,
             "ticks": ""
            },
            "colorscale": [
             [
              0,
              "#0d0887"
             ],
             [
              0.1111111111111111,
              "#46039f"
             ],
             [
              0.2222222222222222,
              "#7201a8"
             ],
             [
              0.3333333333333333,
              "#9c179e"
             ],
             [
              0.4444444444444444,
              "#bd3786"
             ],
             [
              0.5555555555555556,
              "#d8576b"
             ],
             [
              0.6666666666666666,
              "#ed7953"
             ],
             [
              0.7777777777777778,
              "#fb9f3a"
             ],
             [
              0.8888888888888888,
              "#fdca26"
             ],
             [
              1,
              "#f0f921"
             ]
            ],
            "type": "histogram2d"
           }
          ],
          "histogram2dcontour": [
           {
            "colorbar": {
             "outlinewidth": 0,
             "ticks": ""
            },
            "colorscale": [
             [
              0,
              "#0d0887"
             ],
             [
              0.1111111111111111,
              "#46039f"
             ],
             [
              0.2222222222222222,
              "#7201a8"
             ],
             [
              0.3333333333333333,
              "#9c179e"
             ],
             [
              0.4444444444444444,
              "#bd3786"
             ],
             [
              0.5555555555555556,
              "#d8576b"
             ],
             [
              0.6666666666666666,
              "#ed7953"
             ],
             [
              0.7777777777777778,
              "#fb9f3a"
             ],
             [
              0.8888888888888888,
              "#fdca26"
             ],
             [
              1,
              "#f0f921"
             ]
            ],
            "type": "histogram2dcontour"
           }
          ],
          "mesh3d": [
           {
            "colorbar": {
             "outlinewidth": 0,
             "ticks": ""
            },
            "type": "mesh3d"
           }
          ],
          "parcoords": [
           {
            "line": {
             "colorbar": {
              "outlinewidth": 0,
              "ticks": ""
             }
            },
            "type": "parcoords"
           }
          ],
          "pie": [
           {
            "automargin": true,
            "type": "pie"
           }
          ],
          "scatter": [
           {
            "fillpattern": {
             "fillmode": "overlay",
             "size": 10,
             "solidity": 0.2
            },
            "type": "scatter"
           }
          ],
          "scatter3d": [
           {
            "line": {
             "colorbar": {
              "outlinewidth": 0,
              "ticks": ""
             }
            },
            "marker": {
             "colorbar": {
              "outlinewidth": 0,
              "ticks": ""
             }
            },
            "type": "scatter3d"
           }
          ],
          "scattercarpet": [
           {
            "marker": {
             "colorbar": {
              "outlinewidth": 0,
              "ticks": ""
             }
            },
            "type": "scattercarpet"
           }
          ],
          "scattergeo": [
           {
            "marker": {
             "colorbar": {
              "outlinewidth": 0,
              "ticks": ""
             }
            },
            "type": "scattergeo"
           }
          ],
          "scattergl": [
           {
            "marker": {
             "colorbar": {
              "outlinewidth": 0,
              "ticks": ""
             }
            },
            "type": "scattergl"
           }
          ],
          "scattermapbox": [
           {
            "marker": {
             "colorbar": {
              "outlinewidth": 0,
              "ticks": ""
             }
            },
            "type": "scattermapbox"
           }
          ],
          "scatterpolar": [
           {
            "marker": {
             "colorbar": {
              "outlinewidth": 0,
              "ticks": ""
             }
            },
            "type": "scatterpolar"
           }
          ],
          "scatterpolargl": [
           {
            "marker": {
             "colorbar": {
              "outlinewidth": 0,
              "ticks": ""
             }
            },
            "type": "scatterpolargl"
           }
          ],
          "scatterternary": [
           {
            "marker": {
             "colorbar": {
              "outlinewidth": 0,
              "ticks": ""
             }
            },
            "type": "scatterternary"
           }
          ],
          "surface": [
           {
            "colorbar": {
             "outlinewidth": 0,
             "ticks": ""
            },
            "colorscale": [
             [
              0,
              "#0d0887"
             ],
             [
              0.1111111111111111,
              "#46039f"
             ],
             [
              0.2222222222222222,
              "#7201a8"
             ],
             [
              0.3333333333333333,
              "#9c179e"
             ],
             [
              0.4444444444444444,
              "#bd3786"
             ],
             [
              0.5555555555555556,
              "#d8576b"
             ],
             [
              0.6666666666666666,
              "#ed7953"
             ],
             [
              0.7777777777777778,
              "#fb9f3a"
             ],
             [
              0.8888888888888888,
              "#fdca26"
             ],
             [
              1,
              "#f0f921"
             ]
            ],
            "type": "surface"
           }
          ],
          "table": [
           {
            "cells": {
             "fill": {
              "color": "#EBF0F8"
             },
             "line": {
              "color": "white"
             }
            },
            "header": {
             "fill": {
              "color": "#C8D4E3"
             },
             "line": {
              "color": "white"
             }
            },
            "type": "table"
           }
          ]
         },
         "layout": {
          "annotationdefaults": {
           "arrowcolor": "#2a3f5f",
           "arrowhead": 0,
           "arrowwidth": 1
          },
          "autotypenumbers": "strict",
          "coloraxis": {
           "colorbar": {
            "outlinewidth": 0,
            "ticks": ""
           }
          },
          "colorscale": {
           "diverging": [
            [
             0,
             "#8e0152"
            ],
            [
             0.1,
             "#c51b7d"
            ],
            [
             0.2,
             "#de77ae"
            ],
            [
             0.3,
             "#f1b6da"
            ],
            [
             0.4,
             "#fde0ef"
            ],
            [
             0.5,
             "#f7f7f7"
            ],
            [
             0.6,
             "#e6f5d0"
            ],
            [
             0.7,
             "#b8e186"
            ],
            [
             0.8,
             "#7fbc41"
            ],
            [
             0.9,
             "#4d9221"
            ],
            [
             1,
             "#276419"
            ]
           ],
           "sequential": [
            [
             0,
             "#0d0887"
            ],
            [
             0.1111111111111111,
             "#46039f"
            ],
            [
             0.2222222222222222,
             "#7201a8"
            ],
            [
             0.3333333333333333,
             "#9c179e"
            ],
            [
             0.4444444444444444,
             "#bd3786"
            ],
            [
             0.5555555555555556,
             "#d8576b"
            ],
            [
             0.6666666666666666,
             "#ed7953"
            ],
            [
             0.7777777777777778,
             "#fb9f3a"
            ],
            [
             0.8888888888888888,
             "#fdca26"
            ],
            [
             1,
             "#f0f921"
            ]
           ],
           "sequentialminus": [
            [
             0,
             "#0d0887"
            ],
            [
             0.1111111111111111,
             "#46039f"
            ],
            [
             0.2222222222222222,
             "#7201a8"
            ],
            [
             0.3333333333333333,
             "#9c179e"
            ],
            [
             0.4444444444444444,
             "#bd3786"
            ],
            [
             0.5555555555555556,
             "#d8576b"
            ],
            [
             0.6666666666666666,
             "#ed7953"
            ],
            [
             0.7777777777777778,
             "#fb9f3a"
            ],
            [
             0.8888888888888888,
             "#fdca26"
            ],
            [
             1,
             "#f0f921"
            ]
           ]
          },
          "colorway": [
           "#636efa",
           "#EF553B",
           "#00cc96",
           "#ab63fa",
           "#FFA15A",
           "#19d3f3",
           "#FF6692",
           "#B6E880",
           "#FF97FF",
           "#FECB52"
          ],
          "font": {
           "color": "#2a3f5f"
          },
          "geo": {
           "bgcolor": "white",
           "lakecolor": "white",
           "landcolor": "#E5ECF6",
           "showlakes": true,
           "showland": true,
           "subunitcolor": "white"
          },
          "hoverlabel": {
           "align": "left"
          },
          "hovermode": "closest",
          "mapbox": {
           "style": "light"
          },
          "paper_bgcolor": "white",
          "plot_bgcolor": "#E5ECF6",
          "polar": {
           "angularaxis": {
            "gridcolor": "white",
            "linecolor": "white",
            "ticks": ""
           },
           "bgcolor": "#E5ECF6",
           "radialaxis": {
            "gridcolor": "white",
            "linecolor": "white",
            "ticks": ""
           }
          },
          "scene": {
           "xaxis": {
            "backgroundcolor": "#E5ECF6",
            "gridcolor": "white",
            "gridwidth": 2,
            "linecolor": "white",
            "showbackground": true,
            "ticks": "",
            "zerolinecolor": "white"
           },
           "yaxis": {
            "backgroundcolor": "#E5ECF6",
            "gridcolor": "white",
            "gridwidth": 2,
            "linecolor": "white",
            "showbackground": true,
            "ticks": "",
            "zerolinecolor": "white"
           },
           "zaxis": {
            "backgroundcolor": "#E5ECF6",
            "gridcolor": "white",
            "gridwidth": 2,
            "linecolor": "white",
            "showbackground": true,
            "ticks": "",
            "zerolinecolor": "white"
           }
          },
          "shapedefaults": {
           "line": {
            "color": "#2a3f5f"
           }
          },
          "ternary": {
           "aaxis": {
            "gridcolor": "white",
            "linecolor": "white",
            "ticks": ""
           },
           "baxis": {
            "gridcolor": "white",
            "linecolor": "white",
            "ticks": ""
           },
           "bgcolor": "#E5ECF6",
           "caxis": {
            "gridcolor": "white",
            "linecolor": "white",
            "ticks": ""
           }
          },
          "title": {
           "x": 0.05
          },
          "xaxis": {
           "automargin": true,
           "gridcolor": "white",
           "linecolor": "white",
           "ticks": "",
           "title": {
            "standoff": 15
           },
           "zerolinecolor": "white",
           "zerolinewidth": 2
          },
          "yaxis": {
           "automargin": true,
           "gridcolor": "white",
           "linecolor": "white",
           "ticks": "",
           "title": {
            "standoff": 15
           },
           "zerolinecolor": "white",
           "zerolinewidth": 2
          }
         }
        },
        "xaxis": {
         "anchor": "y",
         "domain": [
          0,
          1
         ],
         "title": {
          "text": "x"
         }
        },
        "yaxis": {
         "anchor": "x",
         "domain": [
          0,
          1
         ],
         "range": [
          0,
          1000
         ],
         "title": {
          "text": "y"
         }
        }
       }
      }
     },
     "metadata": {},
     "output_type": "display_data"
    }
   ],
   "source": [
    "# Visualize Bar Graph of Number of Samples for each Bean Grade\n",
    "# ตัวอย่างการลองใช้ plotly express library \n",
    "\n",
    "fig = px.bar( x = [1,2,3], y = bean_grade, color=bean_grade, range_y=[0.0,1000])\n",
    "fig.show()"
   ]
  },
  {
   "cell_type": "code",
   "execution_count": 143,
   "metadata": {},
   "outputs": [
    {
     "data": {
      "text/plain": [
       "array([[ 3.66027395,  4.05834234,  3.86195047, ...,  0.29154442,\n",
       "         0.57576249,  0.0283498 ],\n",
       "       [ 3.92586906,  3.56500983,  3.35077911, ...,  0.29154442,\n",
       "         0.57576249,  0.0283498 ],\n",
       "       [ 2.00030453,  3.28751029,  3.11022788, ...,  0.29154442,\n",
       "         0.34559518,  0.02011522],\n",
       "       ...,\n",
       "       [-2.71400863, -2.87914607, -2.90355288, ..., -1.21357018,\n",
       "         1.03609711, -0.16104561],\n",
       "       [-1.05403921, -2.87914607, -3.17417302, ..., -8.69421438,\n",
       "         0.8059298 , -0.07869978],\n",
       "       [-0.2240545 , -2.60164653, -2.15183029, ..., -4.20133498,\n",
       "         0.11542787, -0.04385981]])"
      ]
     },
     "execution_count": 143,
     "metadata": {},
     "output_type": "execute_result"
    }
   ],
   "source": [
    "# Standardized data ( X [ numerical feature columns ])\n",
    "x_string = X.select_dtypes(exclude='float64')\n",
    "x_continuous = X.select_dtypes(include='float64')\n",
    "standard_scaler = preprocessing.StandardScaler()\n",
    "x_std = standard_scaler.fit_transform(x_continuous)\n",
    "x_std"
   ]
  },
  {
   "cell_type": "code",
   "execution_count": 144,
   "metadata": {},
   "outputs": [
    {
     "name": "stderr",
     "output_type": "stream",
     "text": [
      "C:\\Users\\napat\\AppData\\Local\\Temp\\ipykernel_1140\\2732879862.py:6: DeprecationWarning:\n",
      "\n",
      "`np.bool` is a deprecated alias for the builtin `bool`. To silence this warning, use `bool` by itself. Doing this will not modify any behavior and is safe. If you specifically wanted the numpy scalar type, use `np.bool_` here.\n",
      "Deprecated in NumPy 1.20; for more details and guidance: https://numpy.org/devdocs/release/1.20.0-notes.html#deprecations\n",
      "\n"
     ]
    },
    {
     "data": {
      "text/html": [
       "<div>\n",
       "<style scoped>\n",
       "    .dataframe tbody tr th:only-of-type {\n",
       "        vertical-align: middle;\n",
       "    }\n",
       "\n",
       "    .dataframe tbody tr th {\n",
       "        vertical-align: top;\n",
       "    }\n",
       "\n",
       "    .dataframe thead th {\n",
       "        text-align: right;\n",
       "    }\n",
       "</style>\n",
       "<table border=\"1\" class=\"dataframe\">\n",
       "  <thead>\n",
       "    <tr style=\"text-align: right;\">\n",
       "      <th></th>\n",
       "      <th>Aroma</th>\n",
       "      <th>Flavor</th>\n",
       "      <th>Aftertaste</th>\n",
       "      <th>Acidity</th>\n",
       "      <th>Body</th>\n",
       "      <th>Balance</th>\n",
       "      <th>Uniformity</th>\n",
       "      <th>Moisture</th>\n",
       "      <th>altitude_mean_meters</th>\n",
       "    </tr>\n",
       "  </thead>\n",
       "  <tbody>\n",
       "    <tr>\n",
       "      <th>0</th>\n",
       "      <td>3.660274</td>\n",
       "      <td>4.058342</td>\n",
       "      <td>3.861950</td>\n",
       "      <td>3.977528</td>\n",
       "      <td>3.651469</td>\n",
       "      <td>2.702919</td>\n",
       "      <td>0.291544</td>\n",
       "      <td>0.575762</td>\n",
       "      <td>0.028350</td>\n",
       "    </tr>\n",
       "    <tr>\n",
       "      <th>1</th>\n",
       "      <td>3.925869</td>\n",
       "      <td>3.565010</td>\n",
       "      <td>3.350779</td>\n",
       "      <td>3.424993</td>\n",
       "      <td>3.358094</td>\n",
       "      <td>2.702919</td>\n",
       "      <td>0.291544</td>\n",
       "      <td>0.575762</td>\n",
       "      <td>0.028350</td>\n",
       "    </tr>\n",
       "    <tr>\n",
       "      <th>2</th>\n",
       "      <td>2.000305</td>\n",
       "      <td>3.287510</td>\n",
       "      <td>3.110228</td>\n",
       "      <td>2.904961</td>\n",
       "      <td>3.651469</td>\n",
       "      <td>2.203845</td>\n",
       "      <td>0.291544</td>\n",
       "      <td>0.345595</td>\n",
       "      <td>0.020115</td>\n",
       "    </tr>\n",
       "    <tr>\n",
       "      <th>3</th>\n",
       "      <td>2.265900</td>\n",
       "      <td>3.040844</td>\n",
       "      <td>2.599057</td>\n",
       "      <td>3.164977</td>\n",
       "      <td>3.358094</td>\n",
       "      <td>2.438704</td>\n",
       "      <td>0.291544</td>\n",
       "      <td>0.575762</td>\n",
       "      <td>0.028350</td>\n",
       "    </tr>\n",
       "    <tr>\n",
       "      <th>4</th>\n",
       "      <td>1.701510</td>\n",
       "      <td>3.287510</td>\n",
       "      <td>3.350779</td>\n",
       "      <td>3.164977</td>\n",
       "      <td>0.607701</td>\n",
       "      <td>2.702919</td>\n",
       "      <td>0.291544</td>\n",
       "      <td>0.115428</td>\n",
       "      <td>0.000627</td>\n",
       "    </tr>\n",
       "    <tr>\n",
       "      <th>...</th>\n",
       "      <td>...</td>\n",
       "      <td>...</td>\n",
       "      <td>...</td>\n",
       "      <td>...</td>\n",
       "      <td>...</td>\n",
       "      <td>...</td>\n",
       "      <td>...</td>\n",
       "      <td>...</td>\n",
       "      <td>...</td>\n",
       "    </tr>\n",
       "    <tr>\n",
       "      <th>998</th>\n",
       "      <td>-1.884024</td>\n",
       "      <td>-3.649978</td>\n",
       "      <td>-3.655275</td>\n",
       "      <td>-3.335427</td>\n",
       "      <td>-3.059490</td>\n",
       "      <td>-3.902470</td>\n",
       "      <td>-4.201335</td>\n",
       "      <td>0.115428</td>\n",
       "      <td>-0.040272</td>\n",
       "    </tr>\n",
       "    <tr>\n",
       "      <th>999</th>\n",
       "      <td>-1.618429</td>\n",
       "      <td>-2.108314</td>\n",
       "      <td>-3.414724</td>\n",
       "      <td>-0.345241</td>\n",
       "      <td>-0.932520</td>\n",
       "      <td>-2.199748</td>\n",
       "      <td>0.291544</td>\n",
       "      <td>0.345595</td>\n",
       "      <td>-0.100659</td>\n",
       "    </tr>\n",
       "    <tr>\n",
       "      <th>1000</th>\n",
       "      <td>-2.714009</td>\n",
       "      <td>-2.879146</td>\n",
       "      <td>-2.903553</td>\n",
       "      <td>-2.782892</td>\n",
       "      <td>-1.555942</td>\n",
       "      <td>-2.434606</td>\n",
       "      <td>-1.213570</td>\n",
       "      <td>1.036097</td>\n",
       "      <td>-0.161046</td>\n",
       "    </tr>\n",
       "    <tr>\n",
       "      <th>1001</th>\n",
       "      <td>-1.054039</td>\n",
       "      <td>-2.879146</td>\n",
       "      <td>-3.174173</td>\n",
       "      <td>-4.147977</td>\n",
       "      <td>-3.976288</td>\n",
       "      <td>-4.166686</td>\n",
       "      <td>-8.694214</td>\n",
       "      <td>0.805930</td>\n",
       "      <td>-0.078700</td>\n",
       "    </tr>\n",
       "    <tr>\n",
       "      <th>1002</th>\n",
       "      <td>-0.224054</td>\n",
       "      <td>-2.601647</td>\n",
       "      <td>-2.151830</td>\n",
       "      <td>0.467310</td>\n",
       "      <td>-0.639144</td>\n",
       "      <td>-2.434606</td>\n",
       "      <td>-4.201335</td>\n",
       "      <td>0.115428</td>\n",
       "      <td>-0.043860</td>\n",
       "    </tr>\n",
       "  </tbody>\n",
       "</table>\n",
       "<p>1003 rows × 9 columns</p>\n",
       "</div>"
      ],
      "text/plain": [
       "         Aroma    Flavor  Aftertaste   Acidity      Body   Balance  \\\n",
       "0     3.660274  4.058342    3.861950  3.977528  3.651469  2.702919   \n",
       "1     3.925869  3.565010    3.350779  3.424993  3.358094  2.702919   \n",
       "2     2.000305  3.287510    3.110228  2.904961  3.651469  2.203845   \n",
       "3     2.265900  3.040844    2.599057  3.164977  3.358094  2.438704   \n",
       "4     1.701510  3.287510    3.350779  3.164977  0.607701  2.702919   \n",
       "...        ...       ...         ...       ...       ...       ...   \n",
       "998  -1.884024 -3.649978   -3.655275 -3.335427 -3.059490 -3.902470   \n",
       "999  -1.618429 -2.108314   -3.414724 -0.345241 -0.932520 -2.199748   \n",
       "1000 -2.714009 -2.879146   -2.903553 -2.782892 -1.555942 -2.434606   \n",
       "1001 -1.054039 -2.879146   -3.174173 -4.147977 -3.976288 -4.166686   \n",
       "1002 -0.224054 -2.601647   -2.151830  0.467310 -0.639144 -2.434606   \n",
       "\n",
       "      Uniformity  Moisture  altitude_mean_meters  \n",
       "0       0.291544  0.575762              0.028350  \n",
       "1       0.291544  0.575762              0.028350  \n",
       "2       0.291544  0.345595              0.020115  \n",
       "3       0.291544  0.575762              0.028350  \n",
       "4       0.291544  0.115428              0.000627  \n",
       "...          ...       ...                   ...  \n",
       "998    -4.201335  0.115428             -0.040272  \n",
       "999     0.291544  0.345595             -0.100659  \n",
       "1000   -1.213570  1.036097             -0.161046  \n",
       "1001   -8.694214  0.805930             -0.078700  \n",
       "1002   -4.201335  0.115428             -0.043860  \n",
       "\n",
       "[1003 rows x 9 columns]"
      ]
     },
     "execution_count": 144,
     "metadata": {},
     "output_type": "execute_result"
    }
   ],
   "source": [
    "# feature selection (correlation)\n",
    "x_std_df = pd.DataFrame(x_std,columns=x_continuous.columns)\n",
    "# Calculate correlation between variables for only continuous data columns\n",
    "corr_data = x_std_df.corr()\n",
    "# Reduce Corr() to Lower Matrix\n",
    "lower_tri = corr_data.where(np.tril(np.ones(corr_data.shape),k=-1).astype(np.bool))\n",
    "lower_tri.fillna(0, inplace=True)\n",
    "# Drop columns if |correlation value| > 0.8\n",
    "to_drop = [column for column in lower_tri.columns if any(lower_tri[column] > 0.9)]\n",
    "\n",
    "x_std_df.drop(columns=to_drop, inplace=True)\n",
    "x_std_df"
   ]
  },
  {
   "cell_type": "code",
   "execution_count": 145,
   "metadata": {},
   "outputs": [],
   "source": [
    "# One hot encoding for Categorical feature columns\n",
    "x_string_df = pd.get_dummies(x_string, columns = x_string.columns, drop_first=True )\n"
   ]
  },
  {
   "cell_type": "code",
   "execution_count": 146,
   "metadata": {},
   "outputs": [],
   "source": [
    "# Prepare X train, Xtest , Y train, Ytest\n",
    "x_all = pd.concat([x_std_df,x_string_df], axis=1)\n",
    "x_train, x_test, y_train, y_test = train_test_split(x_all, bean_amount, test_size=0.33, random_state=42)"
   ]
  },
  {
   "cell_type": "markdown",
   "metadata": {},
   "source": [
    "Model Preparation"
   ]
  },
  {
   "cell_type": "code",
   "execution_count": 148,
   "metadata": {},
   "outputs": [
    {
     "name": "stdout",
     "output_type": "stream",
     "text": [
      "---------------------------------------------------------\n",
      "K = 5\n",
      "Confusion Matrix: \n",
      "[[237  13   2]\n",
      " [ 12  29   1]\n",
      " [  1  14  22]]\n",
      "Classification Report: \n",
      "              precision    recall  f1-score   support\n",
      "\n",
      "           1       0.95      0.94      0.94       252\n",
      "           2       0.52      0.69      0.59        42\n",
      "           3       0.88      0.59      0.71        37\n",
      "\n",
      "    accuracy                           0.87       331\n",
      "   macro avg       0.78      0.74      0.75       331\n",
      "weighted avg       0.89      0.87      0.87       331\n",
      "\n",
      "---------------------------------------------------------\n"
     ]
    },
    {
     "name": "stderr",
     "output_type": "stream",
     "text": [
      "c:\\Users\\napat\\anaconda3\\lib\\site-packages\\sklearn\\neighbors\\_classification.py:200: DataConversionWarning:\n",
      "\n",
      "A column-vector y was passed when a 1d array was expected. Please change the shape of y to (n_samples,), for example using ravel().\n",
      "\n"
     ]
    },
    {
     "ename": "ValueError",
     "evalue": "String or int arguments are only possible when a DataFrame or an array is provided in the `data_frame` argument. No DataFrame was provided, but argument 'x' is of type str or int.",
     "output_type": "error",
     "traceback": [
      "\u001b[1;31m---------------------------------------------------------------------------\u001b[0m",
      "\u001b[1;31mValueError\u001b[0m                                Traceback (most recent call last)",
      "\u001b[1;32mc:\\KMITL\\Y3\\ML\\Activity 7\\Activity7.ipynb Cell 13\u001b[0m in \u001b[0;36m<cell line: 5>\u001b[1;34m()\u001b[0m\n\u001b[0;32m     <a href='vscode-notebook-cell:/c%3A/KMITL/Y3/ML/Activity%207/Activity7.ipynb#X14sZmlsZQ%3D%3D?line=22'>23</a>\u001b[0m \u001b[39mprint\u001b[39m(\u001b[39m'\u001b[39m\u001b[39m---------------------------------------------------------\u001b[39m\u001b[39m'\u001b[39m)\n\u001b[0;32m     <a href='vscode-notebook-cell:/c%3A/KMITL/Y3/ML/Activity%207/Activity7.ipynb#X14sZmlsZQ%3D%3D?line=24'>25</a>\u001b[0m \u001b[39m# Visualize compare accuracy of selected k values (at least 3 values of k)\u001b[39;00m\n\u001b[1;32m---> <a href='vscode-notebook-cell:/c%3A/KMITL/Y3/ML/Activity%207/Activity7.ipynb#X14sZmlsZQ%3D%3D?line=25'>26</a>\u001b[0m fig \u001b[39m=\u001b[39m px\u001b[39m.\u001b[39;49mbar(x \u001b[39m=\u001b[39;49m k, y \u001b[39m=\u001b[39;49m KNN_Score, color\u001b[39m=\u001b[39;49mKNN_Score, range_y\u001b[39m=\u001b[39;49m[\u001b[39m0.7\u001b[39;49m,\u001b[39m1.0\u001b[39;49m])\n\u001b[0;32m     <a href='vscode-notebook-cell:/c%3A/KMITL/Y3/ML/Activity%207/Activity7.ipynb#X14sZmlsZQ%3D%3D?line=26'>27</a>\u001b[0m fig\u001b[39m.\u001b[39mshow()\n",
      "File \u001b[1;32mc:\\Users\\napat\\anaconda3\\lib\\site-packages\\plotly\\express\\_chart_types.py:373\u001b[0m, in \u001b[0;36mbar\u001b[1;34m(data_frame, x, y, color, pattern_shape, facet_row, facet_col, facet_col_wrap, facet_row_spacing, facet_col_spacing, hover_name, hover_data, custom_data, text, base, error_x, error_x_minus, error_y, error_y_minus, animation_frame, animation_group, category_orders, labels, color_discrete_sequence, color_discrete_map, color_continuous_scale, pattern_shape_sequence, pattern_shape_map, range_color, color_continuous_midpoint, opacity, orientation, barmode, log_x, log_y, range_x, range_y, text_auto, title, template, width, height)\u001b[0m\n\u001b[0;32m    325\u001b[0m \u001b[39mdef\u001b[39;00m \u001b[39mbar\u001b[39m(\n\u001b[0;32m    326\u001b[0m     data_frame\u001b[39m=\u001b[39m\u001b[39mNone\u001b[39;00m,\n\u001b[0;32m    327\u001b[0m     x\u001b[39m=\u001b[39m\u001b[39mNone\u001b[39;00m,\n\u001b[1;32m   (...)\u001b[0m\n\u001b[0;32m    367\u001b[0m     height\u001b[39m=\u001b[39m\u001b[39mNone\u001b[39;00m,\n\u001b[0;32m    368\u001b[0m ) \u001b[39m-\u001b[39m\u001b[39m>\u001b[39m go\u001b[39m.\u001b[39mFigure:\n\u001b[0;32m    369\u001b[0m     \u001b[39m\"\"\"\u001b[39;00m\n\u001b[0;32m    370\u001b[0m \u001b[39m    In a bar plot, each row of `data_frame` is represented as a rectangular\u001b[39;00m\n\u001b[0;32m    371\u001b[0m \u001b[39m    mark.\u001b[39;00m\n\u001b[0;32m    372\u001b[0m \u001b[39m    \"\"\"\u001b[39;00m\n\u001b[1;32m--> 373\u001b[0m     \u001b[39mreturn\u001b[39;00m make_figure(\n\u001b[0;32m    374\u001b[0m         args\u001b[39m=\u001b[39;49m\u001b[39mlocals\u001b[39;49m(),\n\u001b[0;32m    375\u001b[0m         constructor\u001b[39m=\u001b[39;49mgo\u001b[39m.\u001b[39;49mBar,\n\u001b[0;32m    376\u001b[0m         trace_patch\u001b[39m=\u001b[39;49m\u001b[39mdict\u001b[39;49m(textposition\u001b[39m=\u001b[39;49m\u001b[39m\"\u001b[39;49m\u001b[39mauto\u001b[39;49m\u001b[39m\"\u001b[39;49m),\n\u001b[0;32m    377\u001b[0m         layout_patch\u001b[39m=\u001b[39;49m\u001b[39mdict\u001b[39;49m(barmode\u001b[39m=\u001b[39;49mbarmode),\n\u001b[0;32m    378\u001b[0m     )\n",
      "File \u001b[1;32mc:\\Users\\napat\\anaconda3\\lib\\site-packages\\plotly\\express\\_core.py:1990\u001b[0m, in \u001b[0;36mmake_figure\u001b[1;34m(args, constructor, trace_patch, layout_patch)\u001b[0m\n\u001b[0;32m   1987\u001b[0m layout_patch \u001b[39m=\u001b[39m layout_patch \u001b[39mor\u001b[39;00m {}\n\u001b[0;32m   1988\u001b[0m apply_default_cascade(args)\n\u001b[1;32m-> 1990\u001b[0m args \u001b[39m=\u001b[39m build_dataframe(args, constructor)\n\u001b[0;32m   1991\u001b[0m \u001b[39mif\u001b[39;00m constructor \u001b[39min\u001b[39;00m [go\u001b[39m.\u001b[39mTreemap, go\u001b[39m.\u001b[39mSunburst, go\u001b[39m.\u001b[39mIcicle] \u001b[39mand\u001b[39;00m args[\u001b[39m\"\u001b[39m\u001b[39mpath\u001b[39m\u001b[39m\"\u001b[39m] \u001b[39mis\u001b[39;00m \u001b[39mnot\u001b[39;00m \u001b[39mNone\u001b[39;00m:\n\u001b[0;32m   1992\u001b[0m     args \u001b[39m=\u001b[39m process_dataframe_hierarchy(args)\n",
      "File \u001b[1;32mc:\\Users\\napat\\anaconda3\\lib\\site-packages\\plotly\\express\\_core.py:1405\u001b[0m, in \u001b[0;36mbuild_dataframe\u001b[1;34m(args, constructor)\u001b[0m\n\u001b[0;32m   1402\u001b[0m     args[\u001b[39m\"\u001b[39m\u001b[39mcolor\u001b[39m\u001b[39m\"\u001b[39m] \u001b[39m=\u001b[39m \u001b[39mNone\u001b[39;00m\n\u001b[0;32m   1403\u001b[0m \u001b[39m# now that things have been prepped, we do the systematic rewriting of `args`\u001b[39;00m\n\u001b[1;32m-> 1405\u001b[0m df_output, wide_id_vars \u001b[39m=\u001b[39m process_args_into_dataframe(\n\u001b[0;32m   1406\u001b[0m     args, wide_mode, var_name, value_name\n\u001b[0;32m   1407\u001b[0m )\n\u001b[0;32m   1409\u001b[0m \u001b[39m# now that `df_output` exists and `args` contains only references, we complete\u001b[39;00m\n\u001b[0;32m   1410\u001b[0m \u001b[39m# the special-case and wide-mode handling by further rewriting args and/or mutating\u001b[39;00m\n\u001b[0;32m   1411\u001b[0m \u001b[39m# df_output\u001b[39;00m\n\u001b[0;32m   1413\u001b[0m count_name \u001b[39m=\u001b[39m _escape_col_name(df_output, \u001b[39m\"\u001b[39m\u001b[39mcount\u001b[39m\u001b[39m\"\u001b[39m, [var_name, value_name])\n",
      "File \u001b[1;32mc:\\Users\\napat\\anaconda3\\lib\\site-packages\\plotly\\express\\_core.py:1189\u001b[0m, in \u001b[0;36mprocess_args_into_dataframe\u001b[1;34m(args, wide_mode, var_name, value_name)\u001b[0m\n\u001b[0;32m   1187\u001b[0m     df_output[col_name] \u001b[39m=\u001b[39m to_unindexed_series(real_argument)\n\u001b[0;32m   1188\u001b[0m \u001b[39melif\u001b[39;00m \u001b[39mnot\u001b[39;00m df_provided:\n\u001b[1;32m-> 1189\u001b[0m     \u001b[39mraise\u001b[39;00m \u001b[39mValueError\u001b[39;00m(\n\u001b[0;32m   1190\u001b[0m         \u001b[39m\"\u001b[39m\u001b[39mString or int arguments are only possible when a \u001b[39m\u001b[39m\"\u001b[39m\n\u001b[0;32m   1191\u001b[0m         \u001b[39m\"\u001b[39m\u001b[39mDataFrame or an array is provided in the `data_frame` \u001b[39m\u001b[39m\"\u001b[39m\n\u001b[0;32m   1192\u001b[0m         \u001b[39m\"\u001b[39m\u001b[39margument. No DataFrame was provided, but argument \u001b[39m\u001b[39m\"\u001b[39m\n\u001b[0;32m   1193\u001b[0m         \u001b[39m\"\u001b[39m\u001b[39m'\u001b[39m\u001b[39m%s\u001b[39;00m\u001b[39m'\u001b[39m\u001b[39m is of type str or int.\u001b[39m\u001b[39m\"\u001b[39m \u001b[39m%\u001b[39m field\n\u001b[0;32m   1194\u001b[0m     )\n\u001b[0;32m   1195\u001b[0m \u001b[39m# Check validity of column name\u001b[39;00m\n\u001b[0;32m   1196\u001b[0m \u001b[39melif\u001b[39;00m argument \u001b[39mnot\u001b[39;00m \u001b[39min\u001b[39;00m df_input\u001b[39m.\u001b[39mcolumns:\n",
      "\u001b[1;31mValueError\u001b[0m: String or int arguments are only possible when a DataFrame or an array is provided in the `data_frame` argument. No DataFrame was provided, but argument 'x' is of type str or int."
     ]
    }
   ],
   "source": [
    "#KNN\n",
    "# KNN parameter\n",
    "k = [1, 3, 5, 7, 9, 11, 13, 15, 17, 19, 25, 35] # try at least 3 values\n",
    "\n",
    "for i in range(3):\n",
    "    k = (4*(i+1))+1\n",
    "    print('---------------------------------------------------------')\n",
    "    print('K = '+ str(k))\n",
    "    \n",
    "    # Model Training\n",
    "    modelKNN = KNeighborsClassifier(n_neighbors=k, p=2)\n",
    "    modelKNN.fit(x_train,y_train)\n",
    "\n",
    "    # Model Testing\n",
    "    y_pred= modelKNN.predict(x_test)\n",
    "    KNN_Score = accuracy_score(y_test, y_pred)\n",
    "\n",
    "    # Print Confusion Matrix and Classification Report for best k\n",
    "    print('Confusion Matrix: ')\n",
    "    print(confusion_matrix(y_test, y_pred))\n",
    "    print('Classification Report: ')\n",
    "    print(classification_report(y_test, y_pred))\n",
    "    print('---------------------------------------------------------')\n",
    "\n",
    "# Visualize compare accuracy of selected k values (at least 3 values of k)\n",
    "fig = px.bar(x = k, y = KNN_Score, color=KNN_Score, range_y=[0.7,1.0])\n",
    "fig.show()"
   ]
  }
 ],
 "metadata": {
  "kernelspec": {
   "display_name": "Python 3.9.13 ('base')",
   "language": "python",
   "name": "python3"
  },
  "language_info": {
   "codemirror_mode": {
    "name": "ipython",
    "version": 3
   },
   "file_extension": ".py",
   "mimetype": "text/x-python",
   "name": "python",
   "nbconvert_exporter": "python",
   "pygments_lexer": "ipython3",
   "version": "3.9.13"
  },
  "orig_nbformat": 4,
  "vscode": {
   "interpreter": {
    "hash": "f8d29f74698ed0fe6f3b4750d395adbac39ca9d841a21f30b6569e61090523ed"
   }
  }
 },
 "nbformat": 4,
 "nbformat_minor": 2
}
