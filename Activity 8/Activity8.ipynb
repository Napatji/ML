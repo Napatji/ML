{
 "cells": [
  {
   "cell_type": "markdown",
   "metadata": {},
   "source": [
    "Libraries"
   ]
  },
  {
   "cell_type": "code",
   "execution_count": 29,
   "metadata": {},
   "outputs": [],
   "source": [
    "import numpy as np\n",
    "import pandas as pd\n",
    "import matplotlib.pyplot as plt\n",
    "from sklearn.preprocessing import StandardScaler\n",
    "from sklearn.linear_model import LinearRegression\n",
    "from sklearn.model_selection import train_test_split, cross_val_score, StratifiedKFold\n",
    "from sklearn.svm import SVC\n",
    "from sklearn.svm import SVR\n",
    "from sklearn import metrics\n",
    "from sklearn.model_selection import GridSearchCV, RandomizedSearchCV\n",
    "from sklearn.metrics import accuracy_score, classification_report, confusion_matrix\n",
    "import glob\n",
    "from scipy import stats\n",
    "import datetime as dt"
   ]
  },
  {
   "cell_type": "markdown",
   "metadata": {},
   "source": [
    "Data Preparation"
   ]
  },
  {
   "cell_type": "code",
   "execution_count": 25,
   "metadata": {},
   "outputs": [],
   "source": [
    "# Load data from csv 3 files\n",
    "# acceleration.txt, heartrate.txt, labeled_sleep.txt\n",
    "ACC = pd.read_csv('46343_acceleration.txt', sep = ' ',names=['timedelta', 'accX', 'accY', 'accZ'])\n",
    "HeartR = pd.read_csv('46343_heartrate.txt', sep = ',',names=['timedelta', 'heartrate'])\n",
    "SleepL = pd.read_csv('46343_labeled_sleep.txt', sep = ' ',names=['timedelta', 'sleep'])"
   ]
  },
  {
   "cell_type": "code",
   "execution_count": 26,
   "metadata": {},
   "outputs": [
    {
     "name": "stdout",
     "output_type": "stream",
     "text": [
      "Acc start    : -124489.16105 | Acc end    : 17643.046417\n",
      "HeartR start : -556410.36066 | HeartR end : 16980.47229\n",
      "SleepL start : 0             | SleepL end : 16980\n"
     ]
    }
   ],
   "source": [
    "# Check ‘timedelta’ max(), min() of ACC, HeartR, SleepL (ช่วงเวลาที่มีข้อมูลใกล้กัน)\n",
    "ACC_max_date = ACC['timedelta'].max()\n",
    "ACC_min_date = ACC['timedelta'].min()\n",
    "HeartR_max_date = HeartR['timedelta'].max()\n",
    "HeartR_min_date = HeartR['timedelta'].min()\n",
    "SleepL_max_date = SleepL['timedelta'].max()\n",
    "SleepL_min_date = SleepL['timedelta'].min()\n",
    "# หา start_timedelta, end_timedelta\n",
    "print(\"Acc start    : \"  + str(ACC_min_date) + \" | Acc end    : \" + str(ACC_max_date))\n",
    "print(\"HeartR start : \"  + str(HeartR_min_date) + \" | HeartR end : \" + str(HeartR_max_date))\n",
    "print(\"SleepL start : \"  + str(SleepL_min_date) + \"             | SleepL end : \" + str(SleepL_max_date))"
   ]
  },
  {
   "cell_type": "code",
   "execution_count": 27,
   "metadata": {},
   "outputs": [],
   "source": [
    "# select only intersected timedelta (ACC, HeartR, SleepL) (ช่วงเวลาที่มีข้อมูลใกล้กัน)\n",
    "ACC_new = ACC[(ACC['timedelta'] > ACC_min_date) & (ACC['timedelta'] < ACC_max_date) ]\n",
    "HeartR_new = HeartR[(HeartR['timedelta'] > HeartR_min_date) & (HeartR['timedelta'] < HeartR_max_date) ]\n",
    "SleepL_new = SleepL[(SleepL['timedelta'] > SleepL_min_date) & (SleepL['timedelta'] < SleepL_max_date) ]"
   ]
  },
  {
   "cell_type": "code",
   "execution_count": null,
   "metadata": {},
   "outputs": [],
   "source": [
    "# ------------ Rounding ACC (Rounding to 1 sec) -------------------------------\n",
    "# Convert to datetime and round to second, \n",
    "ACC_new['timedelta'] = pd.DataFrame(pd.to_timedelta(ACC_new['timedelta'], timedelta_unit).round('1s'))\n",
    "\n",
    "# Average rounding duplicated time\n",
    "df_acc_X = ACC_new.groupby('timedelta')['accX'].mean().reset_index() \n",
    "df_acc_Y = ACC_new.groupby('timedelta')['accY'].mean().reset_index()\n",
    "df_acc_Z = ACC_new.groupby('timedelta')['accZ'].mean().reset_index()\n",
    "\n",
    "# acc_X, acc_Y, acc_Z\n",
    "ACC_new2 = pd.concat([df_acc_X, df_acc_Y, df_acc_Z], axis=1)"
   ]
  },
  {
   "cell_type": "code",
   "execution_count": null,
   "metadata": {},
   "outputs": [],
   "source": [
    "# ------------ Rounding Heart Rate (Rounding to 1 sec) -------------------------------\n",
    "HeartR_new['timedelta'] = pd.DataFrame(pd.to_timedelta(HeartR_new['timedelta'], timedelta_unit).round('1s'))\n",
    "\n",
    "# Resampling every 1s with median with ffill\n",
    "resample_rule = '1s'\n",
    "HeartR_new2 = HeartR_new.set_index('timedelta').resample(resample_rule,).median().ffill()"
   ]
  },
  {
   "cell_type": "code",
   "execution_count": null,
   "metadata": {},
   "outputs": [],
   "source": [
    "# ------------ Rounding Sleep Label (Rounding to 1 sec) -------------------------------\n",
    "SleepL_new['timedelta'] = pd.DataFrame(pd.to_timedelta(SleepL_new['timedelta'], timedelta_unit).round('1s'))\n",
    "\n",
    "# Resampling every 1s with median with ffill\n",
    "resample_rule = '1s'\n",
    "SleepL_new2 = SleepL_new.set_index('timedelta').resample(resample_rule,).median().ffill()\n"
   ]
  },
  {
   "cell_type": "markdown",
   "metadata": {},
   "source": [
    "Merge Data and Standardized data"
   ]
  },
  {
   "cell_type": "code",
   "execution_count": null,
   "metadata": {},
   "outputs": [],
   "source": [
    "# ------------Merge All Data -------------------------------\n",
    "df = []\n",
    "df = pd.merge_asof(ACC_new2, HeartR_new2, on='timedelta')\n",
    "df = pd.merge_asof(df, SleepL_new2, on = 'timedelta')"
   ]
  },
  {
   "cell_type": "code",
   "execution_count": null,
   "metadata": {},
   "outputs": [],
   "source": [
    "# Fill NA\n",
    "# Heart rate\n",
    "df.Fillna() # using median()\n",
    "# Sleep Label\n",
    "df.Fillna() # with 0\n",
    "# Drop column\n",
    "df.drop('timedelta')"
   ]
  },
  {
   "cell_type": "code",
   "execution_count": null,
   "metadata": {},
   "outputs": [],
   "source": [
    "# Standardized data\n",
    "feature_columns = ['accX', 'accY', 'accZ', 'heartrate']\n",
    "label_columns = ['sleep']\n",
    "df_feature = df[feature_columns] # <= standardized data of df_feature\n",
    "df_label = df[label_columns]"
   ]
  },
  {
   "cell_type": "code",
   "execution_count": null,
   "metadata": {},
   "outputs": [],
   "source": [
    "# Visualize signals\n",
    "df_feature.plot(), df_label.plot()"
   ]
  },
  {
   "cell_type": "markdown",
   "metadata": {},
   "source": [
    "Model Preparation (SVM)"
   ]
  },
  {
   "cell_type": "code",
   "execution_count": null,
   "metadata": {},
   "outputs": [],
   "source": [
    "# Train Test Split\n",
    "# Train / Test Preparation (try 2 Option) ปลดคอมเมนต์มาใช้ทีละอัน\n",
    "# --------------------------------------------------------- #\n",
    "# Option#1\n",
    "Test_size = int(np.floor(0.3 * len(X)))\n",
    "train_size = int(np.floor(0.7 * len(X)))\n",
    "X_train, X_test = X[0:train_size], X[train_size:len(X)]\n",
    "Y_train, Y_test = Y[0:train_size], Y[train_size:len(X)]\n",
    "# --------------------------------------------------------- #\n",
    "# Option #2\n",
    "# seed = 4\n",
    "# X_train, X_test, Y_train, Y_test = model_selection.train_test_split(X, Y, test_size=0.3, random_state=seed)\n",
    "# --------------------------------------------------------- #\n",
    "# Perform Linear Regression -> All variables\n",
    "lr = LinearRegression()\n",
    "# Train\n",
    "lr.fit(X_train, Y_train)\n",
    "# Validate\n",
    "# y_pred_lr = lr.predict(x_validate)\n",
    "# Test\n",
    "y_test_pred_lr = lr.predict(X_test)\n",
    "# print(r2_score(y_pred_lr, y_validate))\n",
    "print(r2_score(y_test_pred_lr, Y_test))\n",
    "# print(lr.score(x_validate, y_validate))\n",
    "print(lr.score(X_test, Y_test))"
   ]
  },
  {
   "cell_type": "code",
   "execution_count": null,
   "metadata": {},
   "outputs": [],
   "source": [
    "# Model Traing Parameter\n",
    "# Create SVC model\n",
    "c_val = 100\n",
    "gmm = 0.1\n",
    "d = 2"
   ]
  },
  {
   "cell_type": "code",
   "execution_count": null,
   "metadata": {},
   "outputs": [],
   "source": [
    "# Model initialize\n",
    "svc_lin = SVC(kernel='linear', C=c_val)\n",
    "svc_rbf = SVC(kernel='rbf', C=c_val, gamma=gmm)\n",
    "svc_poly = SVC(kernel='poly', C=c_val, degree = d)"
   ]
  },
  {
   "cell_type": "code",
   "execution_count": null,
   "metadata": {},
   "outputs": [],
   "source": [
    "# Model Training\n",
    "svc_rbf_pred = svc_rbf.fit(X_train, Y_train)\n",
    "svc_poly = svc_poly.fit(X_train, Y_train)"
   ]
  },
  {
   "cell_type": "code",
   "execution_count": null,
   "metadata": {},
   "outputs": [],
   "source": [
    "# Model Testing (Predict)\n",
    "svc_rbf_pred = svc_rbf.predict(X_test)\n",
    "svc_poly_pred = svc_poly.predict(X_test)"
   ]
  },
  {
   "cell_type": "markdown",
   "metadata": {},
   "source": [
    "SVM Prediction Report"
   ]
  },
  {
   "cell_type": "code",
   "execution_count": null,
   "metadata": {},
   "outputs": [],
   "source": [
    "# Model Confusion Matrix of SVC_rbf, SVC_poly\n",
    "\n",
    "confusion_matrix(Y_test,svc_rbf_pred)"
   ]
  },
  {
   "cell_type": "code",
   "execution_count": null,
   "metadata": {},
   "outputs": [],
   "source": [
    "# Model Classification Report of SVC_rbf, SVC_poly\n",
    "\n",
    "classification_report(Y_test,svc_rbf_pred)"
   ]
  },
  {
   "cell_type": "markdown",
   "metadata": {},
   "source": [
    "HYPERPARAMETER TUNING(GRIDSEARCHCV())"
   ]
  },
  {
   "cell_type": "code",
   "execution_count": null,
   "metadata": {},
   "outputs": [],
   "source": [
    "# Create Model List\n",
    "regression = { 'LR': LinearRegression(), 'SVR': SVR(), }\n",
    "\n",
    "\n",
    "\n",
    "#Create Model Parameter Dictionary for SVC\n",
    "C_list = [0.1, 1.0, 10.0, 100.0, 200.0, 500.0]\n",
    "Gamma_list = [0.01, 0.1, 1.0, 10]\n",
    "d_list = [2, 3]"
   ]
  },
  {
   "cell_type": "code",
   "execution_count": null,
   "metadata": {},
   "outputs": [],
   "source": [
    "# Perform GridsearchCV() for each classification model\n",
    "model = 1\n",
    "n_jobs = 1\n",
    "grid = GridSearchCV(estimator = model,\n",
    "                    n_jobs = 1,\n",
    "                    verbose = 10,\n",
    "                    scoring = 'accuracy',\n",
    "                    cv = 2,\n",
    "                    param_grid = params)\n",
    "grid_result = grid.fit(X_train, Y_train)"
   ]
  }
 ],
 "metadata": {
  "kernelspec": {
   "display_name": "Python 3.9.13 ('base')",
   "language": "python",
   "name": "python3"
  },
  "language_info": {
   "codemirror_mode": {
    "name": "ipython",
    "version": 3
   },
   "file_extension": ".py",
   "mimetype": "text/x-python",
   "name": "python",
   "nbconvert_exporter": "python",
   "pygments_lexer": "ipython3",
   "version": "3.9.13"
  },
  "orig_nbformat": 4,
  "vscode": {
   "interpreter": {
    "hash": "f8d29f74698ed0fe6f3b4750d395adbac39ca9d841a21f30b6569e61090523ed"
   }
  }
 },
 "nbformat": 4,
 "nbformat_minor": 2
}
