{
 "cells": [
  {
   "cell_type": "markdown",
   "metadata": {},
   "source": [
    "# Libraries"
   ]
  },
  {
   "cell_type": "code",
   "execution_count": 13,
   "metadata": {},
   "outputs": [],
   "source": [
    "import numpy as np\n",
    "import pandas as pd\n",
    "import matplotlib.pyplot as plt\n",
    "from sklearn.preprocessing import StandardScaler\n",
    "from sklearn.model_selection import train_test_split, cross_val_score, StratifiedKFold\n",
    "from sklearn.svm import SVC\n",
    "from sklearn import metrics\n",
    "from sklearn.neural_network import MLPClassifier\n",
    "from sklearn.model_selection import GridSearchCV, RandomizedSearchCV\n",
    "from sklearn.metrics import accuracy_score, classification_report, confusion_matrix\n",
    "import glob\n",
    "from scipy import stats\n",
    "import datetime as dt\n",
    "import tensorflow as tf\n",
    "from tensorflow.keras import datasets, layers, models\n",
    "from tensorflow.keras.layers import Conv2D, MaxPooling2D,Dropout,Flatten,Dense"
   ]
  },
  {
   "cell_type": "markdown",
   "metadata": {},
   "source": [
    "# Data Preparation"
   ]
  },
  {
   "cell_type": "markdown",
   "metadata": {},
   "source": [
    "(a) Load and Prepare Data"
   ]
  },
  {
   "cell_type": "code",
   "execution_count": 14,
   "metadata": {},
   "outputs": [],
   "source": [
    "# Load data from csv 3 files\n",
    "# acceleration.txt, heartrate.txt, labeled_sleep.txt\n",
    "ACC = pd.read_csv('46343_acceleration.txt', sep = ' ',names=['timedelta', 'accX', 'accY', 'accZ'])\n",
    "HeartR = pd.read_csv('46343_heartrate.txt', sep = ',',names=['timedelta', 'heartrate'])\n",
    "SleepL = pd.read_csv('46343_labeled_sleep.txt', sep = ' ',names=['timedelta', 'sleep'])"
   ]
  },
  {
   "cell_type": "code",
   "execution_count": 15,
   "metadata": {},
   "outputs": [
    {
     "name": "stdout",
     "output_type": "stream",
     "text": [
      "Acc start    : -124489.16105 | Acc end    : 17643.046417\n",
      "HeartR start : -556410.36066 | HeartR end : 16980.47229\n",
      "SleepL start : 0             | SleepL end : 16980\n"
     ]
    }
   ],
   "source": [
    "# Check ‘timedelta’ max(), min() of ACC, HeartR, SleepL (ช่วงเวลาที่มีข้อมูลใกล้กัน)\n",
    "ACC_max_date = ACC['timedelta'].max()\n",
    "ACC_min_date = ACC['timedelta'].min()\n",
    "HeartR_max_date = HeartR['timedelta'].max()\n",
    "HeartR_min_date = HeartR['timedelta'].min()\n",
    "SleepL_max_date = SleepL['timedelta'].max()\n",
    "SleepL_min_date = SleepL['timedelta'].min()\n",
    "# หา start_timedelta, end_timedelta\n",
    "print(\"Acc start    : \"  + str(ACC_min_date) + \" | Acc end    : \" + str(ACC_max_date))\n",
    "print(\"HeartR start : \"  + str(HeartR_min_date) + \" | HeartR end : \" + str(HeartR_max_date))\n",
    "print(\"SleepL start : \"  + str(SleepL_min_date) + \"             | SleepL end : \" + str(SleepL_max_date))"
   ]
  },
  {
   "cell_type": "code",
   "execution_count": 16,
   "metadata": {},
   "outputs": [
    {
     "data": {
      "text/html": [
       "<div>\n",
       "<style scoped>\n",
       "    .dataframe tbody tr th:only-of-type {\n",
       "        vertical-align: middle;\n",
       "    }\n",
       "\n",
       "    .dataframe tbody tr th {\n",
       "        vertical-align: top;\n",
       "    }\n",
       "\n",
       "    .dataframe thead th {\n",
       "        text-align: right;\n",
       "    }\n",
       "</style>\n",
       "<table border=\"1\" class=\"dataframe\">\n",
       "  <thead>\n",
       "    <tr style=\"text-align: right;\">\n",
       "      <th></th>\n",
       "      <th>timedelta</th>\n",
       "      <th>accX</th>\n",
       "      <th>accY</th>\n",
       "      <th>accZ</th>\n",
       "    </tr>\n",
       "  </thead>\n",
       "  <tbody>\n",
       "    <tr>\n",
       "      <th>98777</th>\n",
       "      <td>0.000721</td>\n",
       "      <td>-0.234650</td>\n",
       "      <td>0.905975</td>\n",
       "      <td>0.362747</td>\n",
       "    </tr>\n",
       "    <tr>\n",
       "      <th>98778</th>\n",
       "      <td>0.017162</td>\n",
       "      <td>-0.231232</td>\n",
       "      <td>0.893265</td>\n",
       "      <td>0.371613</td>\n",
       "    </tr>\n",
       "    <tr>\n",
       "      <th>98779</th>\n",
       "      <td>0.037183</td>\n",
       "      <td>-0.227814</td>\n",
       "      <td>0.915848</td>\n",
       "      <td>0.369049</td>\n",
       "    </tr>\n",
       "    <tr>\n",
       "      <th>98780</th>\n",
       "      <td>0.057108</td>\n",
       "      <td>-0.240524</td>\n",
       "      <td>0.919159</td>\n",
       "      <td>0.352890</td>\n",
       "    </tr>\n",
       "    <tr>\n",
       "      <th>98781</th>\n",
       "      <td>0.076929</td>\n",
       "      <td>-0.240448</td>\n",
       "      <td>0.889175</td>\n",
       "      <td>0.350143</td>\n",
       "    </tr>\n",
       "    <tr>\n",
       "      <th>...</th>\n",
       "      <td>...</td>\n",
       "      <td>...</td>\n",
       "      <td>...</td>\n",
       "      <td>...</td>\n",
       "    </tr>\n",
       "    <tr>\n",
       "      <th>948796</th>\n",
       "      <td>16979.905934</td>\n",
       "      <td>-0.442413</td>\n",
       "      <td>-0.527573</td>\n",
       "      <td>0.723450</td>\n",
       "    </tr>\n",
       "    <tr>\n",
       "      <th>948797</th>\n",
       "      <td>16979.925889</td>\n",
       "      <td>-0.441925</td>\n",
       "      <td>-0.527573</td>\n",
       "      <td>0.721985</td>\n",
       "    </tr>\n",
       "    <tr>\n",
       "      <th>948798</th>\n",
       "      <td>16979.945849</td>\n",
       "      <td>-0.441437</td>\n",
       "      <td>-0.526108</td>\n",
       "      <td>0.721985</td>\n",
       "    </tr>\n",
       "    <tr>\n",
       "      <th>948799</th>\n",
       "      <td>16979.965927</td>\n",
       "      <td>-0.443405</td>\n",
       "      <td>-0.525116</td>\n",
       "      <td>0.723434</td>\n",
       "    </tr>\n",
       "    <tr>\n",
       "      <th>948800</th>\n",
       "      <td>16979.985935</td>\n",
       "      <td>-0.441925</td>\n",
       "      <td>-0.524628</td>\n",
       "      <td>0.722458</td>\n",
       "    </tr>\n",
       "  </tbody>\n",
       "</table>\n",
       "<p>850024 rows × 4 columns</p>\n",
       "</div>"
      ],
      "text/plain": [
       "           timedelta      accX      accY      accZ\n",
       "98777       0.000721 -0.234650  0.905975  0.362747\n",
       "98778       0.017162 -0.231232  0.893265  0.371613\n",
       "98779       0.037183 -0.227814  0.915848  0.369049\n",
       "98780       0.057108 -0.240524  0.919159  0.352890\n",
       "98781       0.076929 -0.240448  0.889175  0.350143\n",
       "...              ...       ...       ...       ...\n",
       "948796  16979.905934 -0.442413 -0.527573  0.723450\n",
       "948797  16979.925889 -0.441925 -0.527573  0.721985\n",
       "948798  16979.945849 -0.441437 -0.526108  0.721985\n",
       "948799  16979.965927 -0.443405 -0.525116  0.723434\n",
       "948800  16979.985935 -0.441925 -0.524628  0.722458\n",
       "\n",
       "[850024 rows x 4 columns]"
      ]
     },
     "execution_count": 16,
     "metadata": {},
     "output_type": "execute_result"
    }
   ],
   "source": [
    "# select only intersected timedelta (ACC, HeartR, SleepL) (ช่วงเวลาที่มีข้อมูลใกล้กัน)\n",
    "# Ex\n",
    "ACC_new = ACC[(ACC['timedelta'] > SleepL_min_date) & (ACC['timedelta'] < SleepL_max_date)]\n",
    "HeartR_new = HeartR[(HeartR['timedelta'] > SleepL_min_date) & (HeartR['timedelta'] < SleepL_max_date)]\n",
    "SleepL_new = SleepL[(SleepL['timedelta'] > SleepL_min_date) & (SleepL['timedelta'] < SleepL_max_date)]\n",
    "ACC_new\n",
    "# HeartR_new\n",
    "# SleepL_new"
   ]
  },
  {
   "cell_type": "markdown",
   "metadata": {},
   "source": [
    "(b) Load and Prepare Data (ACC)"
   ]
  },
  {
   "cell_type": "code",
   "execution_count": 17,
   "metadata": {},
   "outputs": [
    {
     "name": "stderr",
     "output_type": "stream",
     "text": [
      "C:\\Users\\napat\\AppData\\Local\\Temp\\ipykernel_4480\\2152281988.py:3: SettingWithCopyWarning: \n",
      "A value is trying to be set on a copy of a slice from a DataFrame.\n",
      "Try using .loc[row_indexer,col_indexer] = value instead\n",
      "\n",
      "See the caveats in the documentation: https://pandas.pydata.org/pandas-docs/stable/user_guide/indexing.html#returning-a-view-versus-a-copy\n",
      "  ACC_new['timedelta'] = pd.DataFrame(pd.to_timedelta(ACC_new['timedelta'], unit='s').round('1s'))\n"
     ]
    },
    {
     "data": {
      "text/html": [
       "<div>\n",
       "<style scoped>\n",
       "    .dataframe tbody tr th:only-of-type {\n",
       "        vertical-align: middle;\n",
       "    }\n",
       "\n",
       "    .dataframe tbody tr th {\n",
       "        vertical-align: top;\n",
       "    }\n",
       "\n",
       "    .dataframe thead th {\n",
       "        text-align: right;\n",
       "    }\n",
       "</style>\n",
       "<table border=\"1\" class=\"dataframe\">\n",
       "  <thead>\n",
       "    <tr style=\"text-align: right;\">\n",
       "      <th></th>\n",
       "      <th>timedelta</th>\n",
       "      <th>accX</th>\n",
       "      <th>accY</th>\n",
       "      <th>accZ</th>\n",
       "    </tr>\n",
       "  </thead>\n",
       "  <tbody>\n",
       "    <tr>\n",
       "      <th>0</th>\n",
       "      <td>0 days 00:00:00</td>\n",
       "      <td>-0.243203</td>\n",
       "      <td>0.895372</td>\n",
       "      <td>0.367591</td>\n",
       "    </tr>\n",
       "    <tr>\n",
       "      <th>1</th>\n",
       "      <td>0 days 00:00:01</td>\n",
       "      <td>-0.240757</td>\n",
       "      <td>0.873826</td>\n",
       "      <td>0.415446</td>\n",
       "    </tr>\n",
       "    <tr>\n",
       "      <th>2</th>\n",
       "      <td>0 days 00:00:02</td>\n",
       "      <td>-0.244620</td>\n",
       "      <td>0.883943</td>\n",
       "      <td>0.387026</td>\n",
       "    </tr>\n",
       "    <tr>\n",
       "      <th>3</th>\n",
       "      <td>0 days 00:00:03</td>\n",
       "      <td>-0.248036</td>\n",
       "      <td>0.902427</td>\n",
       "      <td>0.347812</td>\n",
       "    </tr>\n",
       "    <tr>\n",
       "      <th>4</th>\n",
       "      <td>0 days 00:00:04</td>\n",
       "      <td>-0.241778</td>\n",
       "      <td>0.912946</td>\n",
       "      <td>0.321502</td>\n",
       "    </tr>\n",
       "    <tr>\n",
       "      <th>...</th>\n",
       "      <td>...</td>\n",
       "      <td>...</td>\n",
       "      <td>...</td>\n",
       "      <td>...</td>\n",
       "    </tr>\n",
       "    <tr>\n",
       "      <th>16976</th>\n",
       "      <td>0 days 04:42:56</td>\n",
       "      <td>-0.442763</td>\n",
       "      <td>-0.525892</td>\n",
       "      <td>0.722950</td>\n",
       "    </tr>\n",
       "    <tr>\n",
       "      <th>16977</th>\n",
       "      <td>0 days 04:42:57</td>\n",
       "      <td>-0.441990</td>\n",
       "      <td>-0.525476</td>\n",
       "      <td>0.723410</td>\n",
       "    </tr>\n",
       "    <tr>\n",
       "      <th>16978</th>\n",
       "      <td>0 days 04:42:58</td>\n",
       "      <td>-0.441581</td>\n",
       "      <td>-0.525116</td>\n",
       "      <td>0.724003</td>\n",
       "    </tr>\n",
       "    <tr>\n",
       "      <th>16979</th>\n",
       "      <td>0 days 04:42:59</td>\n",
       "      <td>-0.442283</td>\n",
       "      <td>-0.525849</td>\n",
       "      <td>0.723265</td>\n",
       "    </tr>\n",
       "    <tr>\n",
       "      <th>16980</th>\n",
       "      <td>0 days 04:43:00</td>\n",
       "      <td>-0.442674</td>\n",
       "      <td>-0.525962</td>\n",
       "      <td>0.722678</td>\n",
       "    </tr>\n",
       "  </tbody>\n",
       "</table>\n",
       "<p>16981 rows × 4 columns</p>\n",
       "</div>"
      ],
      "text/plain": [
       "            timedelta      accX      accY      accZ\n",
       "0     0 days 00:00:00 -0.243203  0.895372  0.367591\n",
       "1     0 days 00:00:01 -0.240757  0.873826  0.415446\n",
       "2     0 days 00:00:02 -0.244620  0.883943  0.387026\n",
       "3     0 days 00:00:03 -0.248036  0.902427  0.347812\n",
       "4     0 days 00:00:04 -0.241778  0.912946  0.321502\n",
       "...               ...       ...       ...       ...\n",
       "16976 0 days 04:42:56 -0.442763 -0.525892  0.722950\n",
       "16977 0 days 04:42:57 -0.441990 -0.525476  0.723410\n",
       "16978 0 days 04:42:58 -0.441581 -0.525116  0.724003\n",
       "16979 0 days 04:42:59 -0.442283 -0.525849  0.723265\n",
       "16980 0 days 04:43:00 -0.442674 -0.525962  0.722678\n",
       "\n",
       "[16981 rows x 4 columns]"
      ]
     },
     "execution_count": 17,
     "metadata": {},
     "output_type": "execute_result"
    }
   ],
   "source": [
    "# ------------ Rounding ACC (Rounding to 1 sec) -------------------------------\n",
    "# Convert to datetime and round to second, \n",
    "ACC_new['timedelta'] = pd.DataFrame(pd.to_timedelta(ACC_new['timedelta'], unit='s').round('1s'))\n",
    "\n",
    "# Average rounding duplicated time\n",
    "df_acc_X = ACC_new.groupby('timedelta')['accX'].mean().reset_index() \n",
    "df_acc_Y = ACC_new.groupby('timedelta')['accY'].mean().reset_index()\n",
    "df_acc_Z = ACC_new.groupby('timedelta')['accZ'].mean().reset_index()\n",
    "\n",
    "# acc_X, acc_Y, acc_Z\n",
    "ACC_new2 = pd.concat([df_acc_X, df_acc_Y, df_acc_Z], axis=1)\n",
    "ACC_new2 = ACC_new2.loc[:,~ACC_new2.columns.duplicated()].copy()\n",
    "ACC_new2"
   ]
  },
  {
   "cell_type": "markdown",
   "metadata": {},
   "source": [
    "(c) Load and Prepare Data (Heart rate)"
   ]
  },
  {
   "cell_type": "code",
   "execution_count": 18,
   "metadata": {},
   "outputs": [
    {
     "name": "stderr",
     "output_type": "stream",
     "text": [
      "C:\\Users\\napat\\AppData\\Local\\Temp\\ipykernel_4480\\2085734111.py:2: SettingWithCopyWarning: \n",
      "A value is trying to be set on a copy of a slice from a DataFrame.\n",
      "Try using .loc[row_indexer,col_indexer] = value instead\n",
      "\n",
      "See the caveats in the documentation: https://pandas.pydata.org/pandas-docs/stable/user_guide/indexing.html#returning-a-view-versus-a-copy\n",
      "  HeartR_new['timedelta'] = pd.DataFrame(pd.to_timedelta(HeartR_new['timedelta'], unit= 's').round('1s'))\n"
     ]
    },
    {
     "data": {
      "text/html": [
       "<div>\n",
       "<style scoped>\n",
       "    .dataframe tbody tr th:only-of-type {\n",
       "        vertical-align: middle;\n",
       "    }\n",
       "\n",
       "    .dataframe tbody tr th {\n",
       "        vertical-align: top;\n",
       "    }\n",
       "\n",
       "    .dataframe thead th {\n",
       "        text-align: right;\n",
       "    }\n",
       "</style>\n",
       "<table border=\"1\" class=\"dataframe\">\n",
       "  <thead>\n",
       "    <tr style=\"text-align: right;\">\n",
       "      <th></th>\n",
       "      <th>heartrate</th>\n",
       "    </tr>\n",
       "    <tr>\n",
       "      <th>timedelta</th>\n",
       "      <th></th>\n",
       "    </tr>\n",
       "  </thead>\n",
       "  <tbody>\n",
       "    <tr>\n",
       "      <th>0 days 00:00:08</th>\n",
       "      <td>97.0</td>\n",
       "    </tr>\n",
       "    <tr>\n",
       "      <th>0 days 00:00:09</th>\n",
       "      <td>97.0</td>\n",
       "    </tr>\n",
       "    <tr>\n",
       "      <th>0 days 00:00:10</th>\n",
       "      <td>97.0</td>\n",
       "    </tr>\n",
       "    <tr>\n",
       "      <th>0 days 00:00:11</th>\n",
       "      <td>97.0</td>\n",
       "    </tr>\n",
       "    <tr>\n",
       "      <th>0 days 00:00:12</th>\n",
       "      <td>97.0</td>\n",
       "    </tr>\n",
       "    <tr>\n",
       "      <th>...</th>\n",
       "      <td>...</td>\n",
       "    </tr>\n",
       "    <tr>\n",
       "      <th>0 days 04:42:51</th>\n",
       "      <td>75.0</td>\n",
       "    </tr>\n",
       "    <tr>\n",
       "      <th>0 days 04:42:52</th>\n",
       "      <td>75.0</td>\n",
       "    </tr>\n",
       "    <tr>\n",
       "      <th>0 days 04:42:53</th>\n",
       "      <td>75.0</td>\n",
       "    </tr>\n",
       "    <tr>\n",
       "      <th>0 days 04:42:54</th>\n",
       "      <td>75.0</td>\n",
       "    </tr>\n",
       "    <tr>\n",
       "      <th>0 days 04:42:55</th>\n",
       "      <td>76.0</td>\n",
       "    </tr>\n",
       "  </tbody>\n",
       "</table>\n",
       "<p>16968 rows × 1 columns</p>\n",
       "</div>"
      ],
      "text/plain": [
       "                 heartrate\n",
       "timedelta                 \n",
       "0 days 00:00:08       97.0\n",
       "0 days 00:00:09       97.0\n",
       "0 days 00:00:10       97.0\n",
       "0 days 00:00:11       97.0\n",
       "0 days 00:00:12       97.0\n",
       "...                    ...\n",
       "0 days 04:42:51       75.0\n",
       "0 days 04:42:52       75.0\n",
       "0 days 04:42:53       75.0\n",
       "0 days 04:42:54       75.0\n",
       "0 days 04:42:55       76.0\n",
       "\n",
       "[16968 rows x 1 columns]"
      ]
     },
     "execution_count": 18,
     "metadata": {},
     "output_type": "execute_result"
    }
   ],
   "source": [
    "# ------------ Rounding Heart Rate (Rounding to 1 sec) -------------------------------\n",
    "HeartR_new['timedelta'] = pd.DataFrame(pd.to_timedelta(HeartR_new['timedelta'], unit= 's').round('1s'))\n",
    "\n",
    "# Resampling every 1s with median with ffill\n",
    "resample_rule = '1s'\n",
    "HeartR_new2 = HeartR_new.set_index('timedelta').resample(resample_rule,).median().ffill()\n",
    "HeartR_new2"
   ]
  },
  {
   "cell_type": "markdown",
   "metadata": {},
   "source": [
    "(d) Load and Prepare Data (Sleep Label)"
   ]
  },
  {
   "cell_type": "code",
   "execution_count": 19,
   "metadata": {},
   "outputs": [
    {
     "name": "stderr",
     "output_type": "stream",
     "text": [
      "C:\\Users\\napat\\AppData\\Local\\Temp\\ipykernel_4480\\858305284.py:2: SettingWithCopyWarning: \n",
      "A value is trying to be set on a copy of a slice from a DataFrame.\n",
      "Try using .loc[row_indexer,col_indexer] = value instead\n",
      "\n",
      "See the caveats in the documentation: https://pandas.pydata.org/pandas-docs/stable/user_guide/indexing.html#returning-a-view-versus-a-copy\n",
      "  SleepL_new['timedelta'] = pd.DataFrame(pd.to_timedelta(SleepL_new['timedelta'], unit= 's').round('1s'))\n"
     ]
    },
    {
     "data": {
      "text/html": [
       "<div>\n",
       "<style scoped>\n",
       "    .dataframe tbody tr th:only-of-type {\n",
       "        vertical-align: middle;\n",
       "    }\n",
       "\n",
       "    .dataframe tbody tr th {\n",
       "        vertical-align: top;\n",
       "    }\n",
       "\n",
       "    .dataframe thead th {\n",
       "        text-align: right;\n",
       "    }\n",
       "</style>\n",
       "<table border=\"1\" class=\"dataframe\">\n",
       "  <thead>\n",
       "    <tr style=\"text-align: right;\">\n",
       "      <th></th>\n",
       "      <th>sleep</th>\n",
       "    </tr>\n",
       "    <tr>\n",
       "      <th>timedelta</th>\n",
       "      <th></th>\n",
       "    </tr>\n",
       "  </thead>\n",
       "  <tbody>\n",
       "    <tr>\n",
       "      <th>0 days 00:00:30</th>\n",
       "      <td>0.0</td>\n",
       "    </tr>\n",
       "    <tr>\n",
       "      <th>0 days 00:00:31</th>\n",
       "      <td>0.0</td>\n",
       "    </tr>\n",
       "    <tr>\n",
       "      <th>0 days 00:00:32</th>\n",
       "      <td>0.0</td>\n",
       "    </tr>\n",
       "    <tr>\n",
       "      <th>0 days 00:00:33</th>\n",
       "      <td>0.0</td>\n",
       "    </tr>\n",
       "    <tr>\n",
       "      <th>0 days 00:00:34</th>\n",
       "      <td>0.0</td>\n",
       "    </tr>\n",
       "    <tr>\n",
       "      <th>...</th>\n",
       "      <td>...</td>\n",
       "    </tr>\n",
       "    <tr>\n",
       "      <th>0 days 04:42:26</th>\n",
       "      <td>0.0</td>\n",
       "    </tr>\n",
       "    <tr>\n",
       "      <th>0 days 04:42:27</th>\n",
       "      <td>0.0</td>\n",
       "    </tr>\n",
       "    <tr>\n",
       "      <th>0 days 04:42:28</th>\n",
       "      <td>0.0</td>\n",
       "    </tr>\n",
       "    <tr>\n",
       "      <th>0 days 04:42:29</th>\n",
       "      <td>0.0</td>\n",
       "    </tr>\n",
       "    <tr>\n",
       "      <th>0 days 04:42:30</th>\n",
       "      <td>0.0</td>\n",
       "    </tr>\n",
       "  </tbody>\n",
       "</table>\n",
       "<p>16921 rows × 1 columns</p>\n",
       "</div>"
      ],
      "text/plain": [
       "                 sleep\n",
       "timedelta             \n",
       "0 days 00:00:30    0.0\n",
       "0 days 00:00:31    0.0\n",
       "0 days 00:00:32    0.0\n",
       "0 days 00:00:33    0.0\n",
       "0 days 00:00:34    0.0\n",
       "...                ...\n",
       "0 days 04:42:26    0.0\n",
       "0 days 04:42:27    0.0\n",
       "0 days 04:42:28    0.0\n",
       "0 days 04:42:29    0.0\n",
       "0 days 04:42:30    0.0\n",
       "\n",
       "[16921 rows x 1 columns]"
      ]
     },
     "execution_count": 19,
     "metadata": {},
     "output_type": "execute_result"
    }
   ],
   "source": [
    "# ------------ Rounding Sleep Label (Rounding to 1 sec) -------------------------------\n",
    "SleepL_new['timedelta'] = pd.DataFrame(pd.to_timedelta(SleepL_new['timedelta'], unit= 's').round('1s'))\n",
    "\n",
    "# Resampling every 1s with median with ffill\n",
    "resample_rule = '1s'\n",
    "SleepL_new2 = SleepL_new.set_index('timedelta').resample(resample_rule,).median().ffill()\n",
    "SleepL_new2.replace({-1:0},inplace=True)\n",
    "SleepL_new2"
   ]
  },
  {
   "cell_type": "markdown",
   "metadata": {},
   "source": [
    "(e) Merge Data and Standardized data"
   ]
  },
  {
   "cell_type": "code",
   "execution_count": 20,
   "metadata": {},
   "outputs": [
    {
     "data": {
      "text/html": [
       "<div>\n",
       "<style scoped>\n",
       "    .dataframe tbody tr th:only-of-type {\n",
       "        vertical-align: middle;\n",
       "    }\n",
       "\n",
       "    .dataframe tbody tr th {\n",
       "        vertical-align: top;\n",
       "    }\n",
       "\n",
       "    .dataframe thead th {\n",
       "        text-align: right;\n",
       "    }\n",
       "</style>\n",
       "<table border=\"1\" class=\"dataframe\">\n",
       "  <thead>\n",
       "    <tr style=\"text-align: right;\">\n",
       "      <th></th>\n",
       "      <th>timedelta</th>\n",
       "      <th>accX</th>\n",
       "      <th>accY</th>\n",
       "      <th>accZ</th>\n",
       "      <th>heartrate</th>\n",
       "      <th>sleep</th>\n",
       "    </tr>\n",
       "  </thead>\n",
       "  <tbody>\n",
       "    <tr>\n",
       "      <th>0</th>\n",
       "      <td>0 days 00:00:00</td>\n",
       "      <td>-0.243203</td>\n",
       "      <td>0.895372</td>\n",
       "      <td>0.367591</td>\n",
       "      <td>NaN</td>\n",
       "      <td>NaN</td>\n",
       "    </tr>\n",
       "    <tr>\n",
       "      <th>1</th>\n",
       "      <td>0 days 00:00:01</td>\n",
       "      <td>-0.240757</td>\n",
       "      <td>0.873826</td>\n",
       "      <td>0.415446</td>\n",
       "      <td>NaN</td>\n",
       "      <td>NaN</td>\n",
       "    </tr>\n",
       "    <tr>\n",
       "      <th>2</th>\n",
       "      <td>0 days 00:00:02</td>\n",
       "      <td>-0.244620</td>\n",
       "      <td>0.883943</td>\n",
       "      <td>0.387026</td>\n",
       "      <td>NaN</td>\n",
       "      <td>NaN</td>\n",
       "    </tr>\n",
       "    <tr>\n",
       "      <th>3</th>\n",
       "      <td>0 days 00:00:03</td>\n",
       "      <td>-0.248036</td>\n",
       "      <td>0.902427</td>\n",
       "      <td>0.347812</td>\n",
       "      <td>NaN</td>\n",
       "      <td>NaN</td>\n",
       "    </tr>\n",
       "    <tr>\n",
       "      <th>4</th>\n",
       "      <td>0 days 00:00:04</td>\n",
       "      <td>-0.241778</td>\n",
       "      <td>0.912946</td>\n",
       "      <td>0.321502</td>\n",
       "      <td>NaN</td>\n",
       "      <td>NaN</td>\n",
       "    </tr>\n",
       "    <tr>\n",
       "      <th>...</th>\n",
       "      <td>...</td>\n",
       "      <td>...</td>\n",
       "      <td>...</td>\n",
       "      <td>...</td>\n",
       "      <td>...</td>\n",
       "      <td>...</td>\n",
       "    </tr>\n",
       "    <tr>\n",
       "      <th>16976</th>\n",
       "      <td>0 days 04:42:56</td>\n",
       "      <td>-0.442763</td>\n",
       "      <td>-0.525892</td>\n",
       "      <td>0.722950</td>\n",
       "      <td>76.0</td>\n",
       "      <td>0.0</td>\n",
       "    </tr>\n",
       "    <tr>\n",
       "      <th>16977</th>\n",
       "      <td>0 days 04:42:57</td>\n",
       "      <td>-0.441990</td>\n",
       "      <td>-0.525476</td>\n",
       "      <td>0.723410</td>\n",
       "      <td>76.0</td>\n",
       "      <td>0.0</td>\n",
       "    </tr>\n",
       "    <tr>\n",
       "      <th>16978</th>\n",
       "      <td>0 days 04:42:58</td>\n",
       "      <td>-0.441581</td>\n",
       "      <td>-0.525116</td>\n",
       "      <td>0.724003</td>\n",
       "      <td>76.0</td>\n",
       "      <td>0.0</td>\n",
       "    </tr>\n",
       "    <tr>\n",
       "      <th>16979</th>\n",
       "      <td>0 days 04:42:59</td>\n",
       "      <td>-0.442283</td>\n",
       "      <td>-0.525849</td>\n",
       "      <td>0.723265</td>\n",
       "      <td>76.0</td>\n",
       "      <td>0.0</td>\n",
       "    </tr>\n",
       "    <tr>\n",
       "      <th>16980</th>\n",
       "      <td>0 days 04:43:00</td>\n",
       "      <td>-0.442674</td>\n",
       "      <td>-0.525962</td>\n",
       "      <td>0.722678</td>\n",
       "      <td>76.0</td>\n",
       "      <td>0.0</td>\n",
       "    </tr>\n",
       "  </tbody>\n",
       "</table>\n",
       "<p>16981 rows × 6 columns</p>\n",
       "</div>"
      ],
      "text/plain": [
       "            timedelta      accX      accY      accZ  heartrate  sleep\n",
       "0     0 days 00:00:00 -0.243203  0.895372  0.367591        NaN    NaN\n",
       "1     0 days 00:00:01 -0.240757  0.873826  0.415446        NaN    NaN\n",
       "2     0 days 00:00:02 -0.244620  0.883943  0.387026        NaN    NaN\n",
       "3     0 days 00:00:03 -0.248036  0.902427  0.347812        NaN    NaN\n",
       "4     0 days 00:00:04 -0.241778  0.912946  0.321502        NaN    NaN\n",
       "...               ...       ...       ...       ...        ...    ...\n",
       "16976 0 days 04:42:56 -0.442763 -0.525892  0.722950       76.0    0.0\n",
       "16977 0 days 04:42:57 -0.441990 -0.525476  0.723410       76.0    0.0\n",
       "16978 0 days 04:42:58 -0.441581 -0.525116  0.724003       76.0    0.0\n",
       "16979 0 days 04:42:59 -0.442283 -0.525849  0.723265       76.0    0.0\n",
       "16980 0 days 04:43:00 -0.442674 -0.525962  0.722678       76.0    0.0\n",
       "\n",
       "[16981 rows x 6 columns]"
      ]
     },
     "execution_count": 20,
     "metadata": {},
     "output_type": "execute_result"
    }
   ],
   "source": [
    "# ------------Merge All Data -------------------------------\n",
    "df = []\n",
    "df = pd.merge_asof(ACC_new2, HeartR_new2, on = 'timedelta' )\n",
    "df = pd.merge_asof(df, SleepL_new2, on = 'timedelta')\n",
    "df"
   ]
  },
  {
   "cell_type": "code",
   "execution_count": 21,
   "metadata": {},
   "outputs": [
    {
     "data": {
      "text/html": [
       "<div>\n",
       "<style scoped>\n",
       "    .dataframe tbody tr th:only-of-type {\n",
       "        vertical-align: middle;\n",
       "    }\n",
       "\n",
       "    .dataframe tbody tr th {\n",
       "        vertical-align: top;\n",
       "    }\n",
       "\n",
       "    .dataframe thead th {\n",
       "        text-align: right;\n",
       "    }\n",
       "</style>\n",
       "<table border=\"1\" class=\"dataframe\">\n",
       "  <thead>\n",
       "    <tr style=\"text-align: right;\">\n",
       "      <th></th>\n",
       "      <th>accX</th>\n",
       "      <th>accY</th>\n",
       "      <th>accZ</th>\n",
       "      <th>heartrate</th>\n",
       "      <th>sleep</th>\n",
       "    </tr>\n",
       "  </thead>\n",
       "  <tbody>\n",
       "    <tr>\n",
       "      <th>0</th>\n",
       "      <td>-0.243203</td>\n",
       "      <td>0.895372</td>\n",
       "      <td>0.367591</td>\n",
       "      <td>80.886761</td>\n",
       "      <td>0.0</td>\n",
       "    </tr>\n",
       "    <tr>\n",
       "      <th>1</th>\n",
       "      <td>-0.240757</td>\n",
       "      <td>0.873826</td>\n",
       "      <td>0.415446</td>\n",
       "      <td>80.886761</td>\n",
       "      <td>0.0</td>\n",
       "    </tr>\n",
       "    <tr>\n",
       "      <th>2</th>\n",
       "      <td>-0.244620</td>\n",
       "      <td>0.883943</td>\n",
       "      <td>0.387026</td>\n",
       "      <td>80.886761</td>\n",
       "      <td>0.0</td>\n",
       "    </tr>\n",
       "    <tr>\n",
       "      <th>3</th>\n",
       "      <td>-0.248036</td>\n",
       "      <td>0.902427</td>\n",
       "      <td>0.347812</td>\n",
       "      <td>80.886761</td>\n",
       "      <td>0.0</td>\n",
       "    </tr>\n",
       "    <tr>\n",
       "      <th>4</th>\n",
       "      <td>-0.241778</td>\n",
       "      <td>0.912946</td>\n",
       "      <td>0.321502</td>\n",
       "      <td>80.886761</td>\n",
       "      <td>0.0</td>\n",
       "    </tr>\n",
       "    <tr>\n",
       "      <th>...</th>\n",
       "      <td>...</td>\n",
       "      <td>...</td>\n",
       "      <td>...</td>\n",
       "      <td>...</td>\n",
       "      <td>...</td>\n",
       "    </tr>\n",
       "    <tr>\n",
       "      <th>16976</th>\n",
       "      <td>-0.442763</td>\n",
       "      <td>-0.525892</td>\n",
       "      <td>0.722950</td>\n",
       "      <td>76.000000</td>\n",
       "      <td>0.0</td>\n",
       "    </tr>\n",
       "    <tr>\n",
       "      <th>16977</th>\n",
       "      <td>-0.441990</td>\n",
       "      <td>-0.525476</td>\n",
       "      <td>0.723410</td>\n",
       "      <td>76.000000</td>\n",
       "      <td>0.0</td>\n",
       "    </tr>\n",
       "    <tr>\n",
       "      <th>16978</th>\n",
       "      <td>-0.441581</td>\n",
       "      <td>-0.525116</td>\n",
       "      <td>0.724003</td>\n",
       "      <td>76.000000</td>\n",
       "      <td>0.0</td>\n",
       "    </tr>\n",
       "    <tr>\n",
       "      <th>16979</th>\n",
       "      <td>-0.442283</td>\n",
       "      <td>-0.525849</td>\n",
       "      <td>0.723265</td>\n",
       "      <td>76.000000</td>\n",
       "      <td>0.0</td>\n",
       "    </tr>\n",
       "    <tr>\n",
       "      <th>16980</th>\n",
       "      <td>-0.442674</td>\n",
       "      <td>-0.525962</td>\n",
       "      <td>0.722678</td>\n",
       "      <td>76.000000</td>\n",
       "      <td>0.0</td>\n",
       "    </tr>\n",
       "  </tbody>\n",
       "</table>\n",
       "<p>16981 rows × 5 columns</p>\n",
       "</div>"
      ],
      "text/plain": [
       "           accX      accY      accZ  heartrate  sleep\n",
       "0     -0.243203  0.895372  0.367591  80.886761    0.0\n",
       "1     -0.240757  0.873826  0.415446  80.886761    0.0\n",
       "2     -0.244620  0.883943  0.387026  80.886761    0.0\n",
       "3     -0.248036  0.902427  0.347812  80.886761    0.0\n",
       "4     -0.241778  0.912946  0.321502  80.886761    0.0\n",
       "...         ...       ...       ...        ...    ...\n",
       "16976 -0.442763 -0.525892  0.722950  76.000000    0.0\n",
       "16977 -0.441990 -0.525476  0.723410  76.000000    0.0\n",
       "16978 -0.441581 -0.525116  0.724003  76.000000    0.0\n",
       "16979 -0.442283 -0.525849  0.723265  76.000000    0.0\n",
       "16980 -0.442674 -0.525962  0.722678  76.000000    0.0\n",
       "\n",
       "[16981 rows x 5 columns]"
      ]
     },
     "execution_count": 21,
     "metadata": {},
     "output_type": "execute_result"
    }
   ],
   "source": [
    "# Fill NA\n",
    "# Heart rate\n",
    "# df.fillna() # using median()\n",
    "hr_mean = df.heartrate.mean()\n",
    "df.heartrate.fillna(hr_mean, inplace = True)\n",
    "# Sleep Label\n",
    "# df.fillna() # with 0\n",
    "df.sleep.fillna(0, inplace = True)\n",
    "# Drop column\n",
    "df.drop(columns='timedelta',inplace=True)\n",
    "df"
   ]
  },
  {
   "cell_type": "code",
   "execution_count": 22,
   "metadata": {},
   "outputs": [
    {
     "data": {
      "text/html": [
       "<div>\n",
       "<style scoped>\n",
       "    .dataframe tbody tr th:only-of-type {\n",
       "        vertical-align: middle;\n",
       "    }\n",
       "\n",
       "    .dataframe tbody tr th {\n",
       "        vertical-align: top;\n",
       "    }\n",
       "\n",
       "    .dataframe thead th {\n",
       "        text-align: right;\n",
       "    }\n",
       "</style>\n",
       "<table border=\"1\" class=\"dataframe\">\n",
       "  <thead>\n",
       "    <tr style=\"text-align: right;\">\n",
       "      <th></th>\n",
       "      <th>accX</th>\n",
       "      <th>accY</th>\n",
       "      <th>accZ</th>\n",
       "      <th>heartrate</th>\n",
       "    </tr>\n",
       "  </thead>\n",
       "  <tbody>\n",
       "    <tr>\n",
       "      <th>0</th>\n",
       "      <td>-0.587547</td>\n",
       "      <td>3.058075</td>\n",
       "      <td>0.698728</td>\n",
       "      <td>0.000000</td>\n",
       "    </tr>\n",
       "    <tr>\n",
       "      <th>1</th>\n",
       "      <td>-0.581456</td>\n",
       "      <td>2.995094</td>\n",
       "      <td>0.757746</td>\n",
       "      <td>0.000000</td>\n",
       "    </tr>\n",
       "    <tr>\n",
       "      <th>2</th>\n",
       "      <td>-0.591075</td>\n",
       "      <td>3.024668</td>\n",
       "      <td>0.722696</td>\n",
       "      <td>0.000000</td>\n",
       "    </tr>\n",
       "    <tr>\n",
       "      <th>3</th>\n",
       "      <td>-0.599581</td>\n",
       "      <td>3.078699</td>\n",
       "      <td>0.674335</td>\n",
       "      <td>0.000000</td>\n",
       "    </tr>\n",
       "    <tr>\n",
       "      <th>4</th>\n",
       "      <td>-0.583998</td>\n",
       "      <td>3.109450</td>\n",
       "      <td>0.641889</td>\n",
       "      <td>0.000000</td>\n",
       "    </tr>\n",
       "    <tr>\n",
       "      <th>...</th>\n",
       "      <td>...</td>\n",
       "      <td>...</td>\n",
       "      <td>...</td>\n",
       "      <td>...</td>\n",
       "    </tr>\n",
       "    <tr>\n",
       "      <th>16976</th>\n",
       "      <td>-1.084456</td>\n",
       "      <td>-1.096565</td>\n",
       "      <td>1.136974</td>\n",
       "      <td>-0.630391</td>\n",
       "    </tr>\n",
       "    <tr>\n",
       "      <th>16977</th>\n",
       "      <td>-1.082531</td>\n",
       "      <td>-1.095348</td>\n",
       "      <td>1.137542</td>\n",
       "      <td>-0.630391</td>\n",
       "    </tr>\n",
       "    <tr>\n",
       "      <th>16978</th>\n",
       "      <td>-1.081511</td>\n",
       "      <td>-1.094296</td>\n",
       "      <td>1.138273</td>\n",
       "      <td>-0.630391</td>\n",
       "    </tr>\n",
       "    <tr>\n",
       "      <th>16979</th>\n",
       "      <td>-1.083260</td>\n",
       "      <td>-1.096440</td>\n",
       "      <td>1.137363</td>\n",
       "      <td>-0.630391</td>\n",
       "    </tr>\n",
       "    <tr>\n",
       "      <th>16980</th>\n",
       "      <td>-1.084234</td>\n",
       "      <td>-1.096769</td>\n",
       "      <td>1.136639</td>\n",
       "      <td>-0.630391</td>\n",
       "    </tr>\n",
       "  </tbody>\n",
       "</table>\n",
       "<p>16981 rows × 4 columns</p>\n",
       "</div>"
      ],
      "text/plain": [
       "           accX      accY      accZ  heartrate\n",
       "0     -0.587547  3.058075  0.698728   0.000000\n",
       "1     -0.581456  2.995094  0.757746   0.000000\n",
       "2     -0.591075  3.024668  0.722696   0.000000\n",
       "3     -0.599581  3.078699  0.674335   0.000000\n",
       "4     -0.583998  3.109450  0.641889   0.000000\n",
       "...         ...       ...       ...        ...\n",
       "16976 -1.084456 -1.096565  1.136974  -0.630391\n",
       "16977 -1.082531 -1.095348  1.137542  -0.630391\n",
       "16978 -1.081511 -1.094296  1.138273  -0.630391\n",
       "16979 -1.083260 -1.096440  1.137363  -0.630391\n",
       "16980 -1.084234 -1.096769  1.136639  -0.630391\n",
       "\n",
       "[16981 rows x 4 columns]"
      ]
     },
     "execution_count": 22,
     "metadata": {},
     "output_type": "execute_result"
    }
   ],
   "source": [
    "# Standardized data\n",
    "feature_columns = ['accX', 'accY', 'accZ', 'heartrate']\n",
    "label_columns = ['sleep']\n",
    "standard_scaler = StandardScaler()\n",
    "df[feature_columns] = standard_scaler.fit_transform(df[feature_columns])\n",
    "\n",
    "df_feature = df[feature_columns] # <= standardized data of df_feature\n",
    "df_label = df[label_columns]\n",
    "df_feature"
   ]
  },
  {
   "cell_type": "code",
   "execution_count": 23,
   "metadata": {},
   "outputs": [
    {
     "data": {
      "text/plain": [
       "(<AxesSubplot:>, <AxesSubplot:>)"
      ]
     },
     "execution_count": 23,
     "metadata": {},
     "output_type": "execute_result"
    },
    {
     "data": {
      "image/png": "[encoded data removed]",
      "text/plain": [
       "<Figure size 640x480 with 1 Axes>"
      ]
     },
     "metadata": {},
     "output_type": "display_data"
    },
    {
     "data": {
      "image/png": "[encoded data removed]",
      "text/plain": [
       "<Figure size 640x480 with 1 Axes>"
      ]
     },
     "metadata": {},
     "output_type": "display_data"
    }
   ],
   "source": [
    "# Visualize signals\n",
    "df_feature.plot(), df_label.plot()"
   ]
  },
  {
   "cell_type": "code",
   "execution_count": 24,
   "metadata": {},
   "outputs": [
    {
     "name": "stderr",
     "output_type": "stream",
     "text": [
      "C:\\Users\\napat\\AppData\\Local\\Temp\\ipykernel_4480\\1149033774.py:19: FutureWarning: Unlike other reduction functions (e.g. `skew`, `kurtosis`), the default behavior of `mode` typically preserves the axis it acts along. In SciPy 1.11.0, this behavior will change: the default value of `keepdims` will become False, the `axis` over which the statistic is taken will be eliminated, and the value None will no longer be accepted. Set `keepdims` to True or False to avoid this warning.\n",
      "  Labels = stats.mode( df_label [t : t+slidingW])\n"
     ]
    },
    {
     "data": {
      "text/plain": [
       "(3377, 100, 4, 1)"
      ]
     },
     "execution_count": 24,
     "metadata": {},
     "output_type": "execute_result"
    }
   ],
   "source": [
    "# ------------ 1D to 3D feature-------------------------------\n",
    "# set sliding window parameter\n",
    "slidingW = 100\n",
    "Stride_step = 5\n",
    "n_features = 4\n",
    "Nsets = 0\n",
    "df_feature3D = np.array([],ndmin=2)\n",
    "df_label_new = np.array([])\n",
    "\n",
    "for t in range( 0 , len(df_feature), Stride_step ):\n",
    "    F3d = np.array(df_feature[t : t + slidingW],ndmin=2)\n",
    "\n",
    "    if len(F3d) < slidingW:\n",
    "        break\n",
    "\n",
    "    F3d.reshape(slidingW, n_features, 1)\n",
    "    Nsets += 1\n",
    "    df_feature3D = np.append(df_feature3D,F3d)\n",
    "    Labels = stats.mode( df_label [t : t+slidingW])\n",
    "    df_label_new = np.append(df_label_new, Labels[0])\n",
    "\n",
    "df_feature3D = np.reshape(df_feature3D,(Nsets,slidingW,n_features))\n",
    "df_feature3D = df_feature3D[..., np.newaxis]\n",
    "df_feature3D.shape"
   ]
  },
  {
   "cell_type": "code",
   "execution_count": 25,
   "metadata": {},
   "outputs": [
    {
     "data": {
      "text/plain": [
       "(3377, 100, 4, 1)"
      ]
     },
     "execution_count": 25,
     "metadata": {},
     "output_type": "execute_result"
    }
   ],
   "source": [
    "df_feature3D.shape"
   ]
  },
  {
   "cell_type": "markdown",
   "metadata": {},
   "source": [
    "Train Test Split"
   ]
  },
  {
   "cell_type": "code",
   "execution_count": 26,
   "metadata": {},
   "outputs": [],
   "source": [
    "# ------------ Train-Test-Split 2D features -------------------------------\n",
    "x_train, x_test, y_train, y_test = train_test_split( df_feature, df_label)\n",
    "\n",
    "# ------------ Train-Test-Split 3D features -------------------------------\n",
    "x3D_train, x3D_test, y3D_train, y3D_test = train_test_split( df_feature3D , df_label_new)"
   ]
  },
  {
   "cell_type": "markdown",
   "metadata": {},
   "source": [
    "# NN Model Train and Test"
   ]
  },
  {
   "cell_type": "markdown",
   "metadata": {},
   "source": [
    "NN Model Train Test"
   ]
  },
  {
   "cell_type": "code",
   "execution_count": 27,
   "metadata": {},
   "outputs": [],
   "source": [
    "# ------------ NN Architecture parameter -------------------------------\n",
    "Hidden_Layer_param = (30, 30, 30)\n",
    "mlp = MLPClassifier(hidden_layer_sizes = Hidden_Layer_param)\n",
    "# View NN model parameters"
   ]
  },
  {
   "cell_type": "code",
   "execution_count": 28,
   "metadata": {},
   "outputs": [
    {
     "name": "stderr",
     "output_type": "stream",
     "text": [
      "c:\\Users\\napat\\anaconda3\\lib\\site-packages\\sklearn\\neural_network\\_multilayer_perceptron.py:1109: DataConversionWarning: A column-vector y was passed when a 1d array was expected. Please change the shape of y to (n_samples, ), for example using ravel().\n",
      "  y = column_or_1d(y, warn=True)\n",
      "c:\\Users\\napat\\anaconda3\\lib\\site-packages\\sklearn\\neural_network\\_multilayer_perceptron.py:692: ConvergenceWarning: Stochastic Optimizer: Maximum iterations (200) reached and the optimization hasn't converged yet.\n",
      "  warnings.warn(\n"
     ]
    }
   ],
   "source": [
    "# ------------ Training NN using 1D features -------------------------------\n",
    "mlp.fit(x_train,y_train)\n",
    "mlp_pred = mlp.predict(x_test)"
   ]
  },
  {
   "cell_type": "code",
   "execution_count": 30,
   "metadata": {},
   "outputs": [
    {
     "name": "stdout",
     "output_type": "stream",
     "text": [
      "[[ 644   33   36    9    1]\n",
      " [  35  108   69    1   10]\n",
      " [  46   38 1076   39   45]\n",
      " [   6    0   82 1109    1]\n",
      " [   0    1    7    0  850]]\n",
      "              precision    recall  f1-score   support\n",
      "\n",
      "         0.0       0.88      0.89      0.89       723\n",
      "         1.0       0.60      0.48      0.54       223\n",
      "         2.0       0.85      0.86      0.86      1244\n",
      "         3.0       0.96      0.93      0.94      1198\n",
      "         5.0       0.94      0.99      0.96       858\n",
      "\n",
      "    accuracy                           0.89      4246\n",
      "   macro avg       0.84      0.83      0.84      4246\n",
      "weighted avg       0.89      0.89      0.89      4246\n",
      "\n"
     ]
    }
   ],
   "source": [
    "# View Confusion Matrix and Classification Report\n",
    "print(confusion_matrix(y_test,mlp_pred))\n",
    "print(classification_report(y_test,mlp_pred))"
   ]
  },
  {
   "cell_type": "markdown",
   "metadata": {},
   "source": [
    "# CNN Model Train and Test"
   ]
  },
  {
   "cell_type": "markdown",
   "metadata": {},
   "source": [
    "CNN Model Train Test"
   ]
  },
  {
   "cell_type": "code",
   "execution_count": 31,
   "metadata": {},
   "outputs": [],
   "source": [
    "# ------------ CNN Architecture parameter -------------------------------\n",
    "# Nlayer (CNN, dense), Nnode, Activation\n",
    "CNN_L1 = 16\n",
    "CNN_L2 = 64\n",
    "CNN_L3 = 128\n",
    "D_L1 = 512\n",
    "D_out = 6\n",
    "Activation = 'relu'\n",
    "Ker_size = (3,3)\n",
    "Pooling_size = (2,1)\n",
    "Input_shape = (slidingW, n_features, 1)"
   ]
  },
  {
   "cell_type": "code",
   "execution_count": 32,
   "metadata": {},
   "outputs": [
    {
     "name": "stdout",
     "output_type": "stream",
     "text": [
      "Model: \"sequential\"\n",
      "_________________________________________________________________\n",
      " Layer (type)                Output Shape              Param #   \n",
      "=================================================================\n",
      " conv2d (Conv2D)             (None, 100, 4, 16)        160       \n",
      "                                                                 \n",
      " max_pooling2d (MaxPooling2D  (None, 50, 4, 16)        0         \n",
      " )                                                               \n",
      "                                                                 \n",
      " dropout (Dropout)           (None, 50, 4, 16)         0         \n",
      "                                                                 \n",
      " conv2d_1 (Conv2D)           (None, 50, 4, 64)         9280      \n",
      "                                                                 \n",
      " max_pooling2d_1 (MaxPooling  (None, 25, 4, 64)        0         \n",
      " 2D)                                                             \n",
      "                                                                 \n",
      " dropout_1 (Dropout)         (None, 25, 4, 64)         0         \n",
      "                                                                 \n",
      " conv2d_2 (Conv2D)           (None, 25, 4, 128)        73856     \n",
      "                                                                 \n",
      " max_pooling2d_2 (MaxPooling  (None, 12, 4, 128)       0         \n",
      " 2D)                                                             \n",
      "                                                                 \n",
      " dropout_2 (Dropout)         (None, 12, 4, 128)        0         \n",
      "                                                                 \n",
      " flatten (Flatten)           (None, 6144)              0         \n",
      "                                                                 \n",
      " dense (Dense)               (None, 512)               3146240   \n",
      "                                                                 \n",
      " dense_1 (Dense)             (None, 6)                 3078      \n",
      "                                                                 \n",
      "=================================================================\n",
      "Total params: 3,232,614\n",
      "Trainable params: 3,232,614\n",
      "Non-trainable params: 0\n",
      "_________________________________________________________________\n"
     ]
    }
   ],
   "source": [
    "# ------------ Create CNN Model -------------------------------\n",
    "model = models.Sequential()\n",
    "model.add(Conv2D(CNN_L1, kernel_size=Ker_size, activation=Activation, input_shape=Input_shape,padding='same'))\n",
    "model.add(MaxPooling2D(pool_size=Pooling_size))\n",
    "model.add(Dropout(0.4))\n",
    "model.add(Conv2D(CNN_L2, kernel_size=Ker_size, activation= Activation, padding='same'))\n",
    "model.add(MaxPooling2D(pool_size= Pooling_size))\n",
    "model.add(Dropout(0.4))\n",
    "model.add(Conv2D(CNN_L3, kernel_size=Ker_size, activation= Activation,\n",
    "padding='same'))\n",
    "model.add(MaxPooling2D(pool_size= Pooling_size))\n",
    "model.add(Dropout(0.4))\n",
    "model.add(Flatten())\n",
    "model.add(Dense(D_L1 , activation= Activation ))\n",
    "model.add(Dense(D_out, activation='sigmoid'))\n",
    "model.compile(optimizer='adam', metrics=['accuracy'])\n",
    "model.summary()"
   ]
  },
  {
   "cell_type": "markdown",
   "metadata": {},
   "source": [
    "CNN Model Train Test"
   ]
  },
  {
   "cell_type": "code",
   "execution_count": 33,
   "metadata": {},
   "outputs": [],
   "source": [
    "# ------------ Create Optimizer -------------------------------\n",
    "model.compile(optimizer='adam',loss= tf.keras.losses.SparseCategoricalCrossentropy(from_logits=True),metrics=[\"acc\"])"
   ]
  },
  {
   "cell_type": "code",
   "execution_count": 34,
   "metadata": {},
   "outputs": [
    {
     "name": "stdout",
     "output_type": "stream",
     "text": [
      "Epoch 1/50\n"
     ]
    },
    {
     "name": "stderr",
     "output_type": "stream",
     "text": [
      "c:\\Users\\napat\\anaconda3\\lib\\site-packages\\keras\\backend.py:5582: UserWarning: \"`sparse_categorical_crossentropy` received `from_logits=True`, but the `output` argument was produced by a Softmax activation and thus does not represent logits. Was this intended?\n",
      "  output, from_logits = _get_logits(\n"
     ]
    },
    {
     "name": "stdout",
     "output_type": "stream",
     "text": [
      "40/40 [==============================] - 9s 188ms/step - loss: 1.1885 - acc: 0.4806 - val_loss: 0.8117 - val_acc: 0.6769\n",
      "Epoch 2/50\n",
      "40/40 [==============================] - 7s 179ms/step - loss: 0.6828 - acc: 0.7014 - val_loss: 0.5841 - val_acc: 0.7077\n",
      "Epoch 3/50\n",
      "40/40 [==============================] - 7s 177ms/step - loss: 0.5355 - acc: 0.7753 - val_loss: 0.5321 - val_acc: 0.7349\n",
      "Epoch 4/50\n",
      "40/40 [==============================] - 7s 168ms/step - loss: 0.4980 - acc: 0.7844 - val_loss: 0.4580 - val_acc: 0.8272\n",
      "Epoch 5/50\n",
      "40/40 [==============================] - 7s 165ms/step - loss: 0.4356 - acc: 0.8227 - val_loss: 0.4235 - val_acc: 0.8544\n",
      "Epoch 6/50\n",
      "40/40 [==============================] - 7s 166ms/step - loss: 0.4163 - acc: 0.8270 - val_loss: 0.3880 - val_acc: 0.8615\n",
      "Epoch 7/50\n",
      "40/40 [==============================] - 7s 164ms/step - loss: 0.3942 - acc: 0.8318 - val_loss: 0.3384 - val_acc: 0.8805\n",
      "Epoch 8/50\n",
      "40/40 [==============================] - 7s 166ms/step - loss: 0.3758 - acc: 0.8460 - val_loss: 0.3557 - val_acc: 0.8817\n",
      "Epoch 9/50\n",
      "40/40 [==============================] - 7s 167ms/step - loss: 0.3430 - acc: 0.8511 - val_loss: 0.3073 - val_acc: 0.8947\n",
      "Epoch 10/50\n",
      "40/40 [==============================] - 7s 165ms/step - loss: 0.3364 - acc: 0.8570 - val_loss: 0.2828 - val_acc: 0.8876\n",
      "Epoch 11/50\n",
      "40/40 [==============================] - 6s 162ms/step - loss: 0.3212 - acc: 0.8566 - val_loss: 0.2916 - val_acc: 0.8923\n",
      "Epoch 12/50\n",
      "40/40 [==============================] - 6s 163ms/step - loss: 0.3087 - acc: 0.8673 - val_loss: 0.2679 - val_acc: 0.8959\n",
      "Epoch 13/50\n",
      "40/40 [==============================] - 7s 163ms/step - loss: 0.2913 - acc: 0.8811 - val_loss: 0.2363 - val_acc: 0.9053\n",
      "Epoch 14/50\n",
      "40/40 [==============================] - 7s 166ms/step - loss: 0.2641 - acc: 0.8870 - val_loss: 0.2544 - val_acc: 0.8888\n",
      "Epoch 15/50\n",
      "40/40 [==============================] - 6s 162ms/step - loss: 0.2616 - acc: 0.8882 - val_loss: 0.2247 - val_acc: 0.9077\n",
      "Epoch 16/50\n",
      "40/40 [==============================] - 6s 162ms/step - loss: 0.2502 - acc: 0.8874 - val_loss: 0.2430 - val_acc: 0.8982\n",
      "Epoch 17/50\n",
      "40/40 [==============================] - 7s 166ms/step - loss: 0.2527 - acc: 0.8949 - val_loss: 0.2331 - val_acc: 0.9077\n",
      "Epoch 18/50\n",
      "40/40 [==============================] - 6s 162ms/step - loss: 0.2410 - acc: 0.8997 - val_loss: 0.2340 - val_acc: 0.9041\n",
      "Epoch 19/50\n",
      "40/40 [==============================] - 7s 163ms/step - loss: 0.2523 - acc: 0.8910 - val_loss: 0.2513 - val_acc: 0.9207\n",
      "Epoch 20/50\n",
      "40/40 [==============================] - 7s 168ms/step - loss: 0.2179 - acc: 0.9036 - val_loss: 0.1756 - val_acc: 0.9302\n",
      "Epoch 21/50\n",
      "40/40 [==============================] - 7s 168ms/step - loss: 0.1942 - acc: 0.9214 - val_loss: 0.1736 - val_acc: 0.9195\n",
      "Epoch 22/50\n",
      "40/40 [==============================] - 7s 166ms/step - loss: 0.2113 - acc: 0.9076 - val_loss: 0.1809 - val_acc: 0.9302\n",
      "Epoch 23/50\n",
      "40/40 [==============================] - 6s 163ms/step - loss: 0.2157 - acc: 0.9068 - val_loss: 0.2151 - val_acc: 0.9065\n",
      "Epoch 24/50\n",
      "40/40 [==============================] - 7s 165ms/step - loss: 0.2097 - acc: 0.9068 - val_loss: 0.2098 - val_acc: 0.9160\n",
      "Epoch 25/50\n",
      "40/40 [==============================] - 6s 162ms/step - loss: 0.1952 - acc: 0.9147 - val_loss: 0.1658 - val_acc: 0.9314\n",
      "Epoch 26/50\n",
      "40/40 [==============================] - 7s 166ms/step - loss: 0.1905 - acc: 0.9131 - val_loss: 0.1791 - val_acc: 0.9243\n",
      "Epoch 27/50\n",
      "40/40 [==============================] - 7s 166ms/step - loss: 0.2098 - acc: 0.9056 - val_loss: 0.2058 - val_acc: 0.9077\n",
      "Epoch 28/50\n",
      "40/40 [==============================] - 7s 168ms/step - loss: 0.1643 - acc: 0.9261 - val_loss: 0.1681 - val_acc: 0.9231\n",
      "Epoch 29/50\n",
      "40/40 [==============================] - 7s 167ms/step - loss: 0.1877 - acc: 0.9214 - val_loss: 0.1681 - val_acc: 0.9254\n",
      "Epoch 30/50\n",
      "40/40 [==============================] - 7s 166ms/step - loss: 0.1540 - acc: 0.9321 - val_loss: 0.1510 - val_acc: 0.9278\n",
      "Epoch 31/50\n",
      "40/40 [==============================] - 7s 167ms/step - loss: 0.1995 - acc: 0.9123 - val_loss: 0.2272 - val_acc: 0.8970\n",
      "Epoch 32/50\n",
      "40/40 [==============================] - 7s 170ms/step - loss: 0.2090 - acc: 0.9127 - val_loss: 0.1644 - val_acc: 0.9385\n",
      "Epoch 33/50\n",
      "40/40 [==============================] - 6s 162ms/step - loss: 0.1607 - acc: 0.9281 - val_loss: 0.1484 - val_acc: 0.9432\n",
      "Epoch 34/50\n",
      "40/40 [==============================] - 7s 164ms/step - loss: 0.1715 - acc: 0.9242 - val_loss: 0.1808 - val_acc: 0.9385\n",
      "Epoch 35/50\n",
      "40/40 [==============================] - 7s 164ms/step - loss: 0.1584 - acc: 0.9336 - val_loss: 0.1410 - val_acc: 0.9479\n",
      "Epoch 36/50\n",
      "40/40 [==============================] - 7s 165ms/step - loss: 0.1758 - acc: 0.9210 - val_loss: 0.1559 - val_acc: 0.9243\n",
      "Epoch 37/50\n",
      "40/40 [==============================] - 7s 165ms/step - loss: 0.1596 - acc: 0.9344 - val_loss: 0.1314 - val_acc: 0.9538\n",
      "Epoch 38/50\n",
      "40/40 [==============================] - 7s 164ms/step - loss: 0.1411 - acc: 0.9364 - val_loss: 0.1324 - val_acc: 0.9420\n",
      "Epoch 39/50\n",
      "40/40 [==============================] - 6s 161ms/step - loss: 0.1296 - acc: 0.9384 - val_loss: 0.1482 - val_acc: 0.9325\n",
      "Epoch 40/50\n",
      "40/40 [==============================] - 7s 167ms/step - loss: 0.1384 - acc: 0.9352 - val_loss: 0.1277 - val_acc: 0.9420\n",
      "Epoch 41/50\n",
      "40/40 [==============================] - 6s 162ms/step - loss: 0.1391 - acc: 0.9380 - val_loss: 0.1366 - val_acc: 0.9432\n",
      "Epoch 42/50\n",
      "40/40 [==============================] - 7s 169ms/step - loss: 0.1500 - acc: 0.9356 - val_loss: 0.1253 - val_acc: 0.9527\n",
      "Epoch 43/50\n",
      "40/40 [==============================] - 6s 162ms/step - loss: 0.1315 - acc: 0.9435 - val_loss: 0.1768 - val_acc: 0.9314\n",
      "Epoch 44/50\n",
      "40/40 [==============================] - 7s 165ms/step - loss: 0.1604 - acc: 0.9301 - val_loss: 0.1947 - val_acc: 0.9077\n",
      "Epoch 45/50\n",
      "40/40 [==============================] - 7s 164ms/step - loss: 0.1317 - acc: 0.9423 - val_loss: 0.1311 - val_acc: 0.9456\n",
      "Epoch 46/50\n",
      "40/40 [==============================] - 7s 164ms/step - loss: 0.1241 - acc: 0.9376 - val_loss: 0.1335 - val_acc: 0.9408\n",
      "Epoch 47/50\n",
      "40/40 [==============================] - 7s 168ms/step - loss: 0.1340 - acc: 0.9380 - val_loss: 0.2495 - val_acc: 0.9183\n",
      "Epoch 48/50\n",
      "40/40 [==============================] - 6s 162ms/step - loss: 0.1934 - acc: 0.9194 - val_loss: 0.1762 - val_acc: 0.9254\n",
      "Epoch 49/50\n",
      "40/40 [==============================] - 7s 165ms/step - loss: 0.1412 - acc: 0.9431 - val_loss: 0.1318 - val_acc: 0.9456\n",
      "Epoch 50/50\n",
      "40/40 [==============================] - 6s 162ms/step - loss: 0.1265 - acc: 0.9451 - val_loss: 0.1410 - val_acc: 0.9396\n"
     ]
    }
   ],
   "source": [
    "# ------ Train CNN using 3D feature--------------------------------------------\n",
    "history = model.fit(x3D_train, y3D_train, epochs=50, batch_size=64,validation_data=(x3D_test, y3D_test))"
   ]
  },
  {
   "cell_type": "code",
   "execution_count": 35,
   "metadata": {},
   "outputs": [
    {
     "name": "stdout",
     "output_type": "stream",
     "text": [
      "27/27 [==============================] - 1s 24ms/step\n"
     ]
    }
   ],
   "source": [
    "# ------- Test CNN -------------------------------\n",
    "CNN_pred = np.argmax(model.predict(x3D_test),axis=1)"
   ]
  },
  {
   "cell_type": "markdown",
   "metadata": {},
   "source": [
    "Performnace of CNN Model"
   ]
  },
  {
   "cell_type": "code",
   "execution_count": 36,
   "metadata": {},
   "outputs": [
    {
     "name": "stdout",
     "output_type": "stream",
     "text": [
      "[[129   0   9   0   0]\n",
      " [  2  19  13   0   0]\n",
      " [  1   0 241  19   5]\n",
      " [  1   0   1 236   0]\n",
      " [  0   0   0   0 169]]\n",
      "              precision    recall  f1-score   support\n",
      "\n",
      "         0.0       0.97      0.93      0.95       138\n",
      "         1.0       1.00      0.56      0.72        34\n",
      "         2.0       0.91      0.91      0.91       266\n",
      "         3.0       0.93      0.99      0.96       238\n",
      "         5.0       0.97      1.00      0.99       169\n",
      "\n",
      "    accuracy                           0.94       845\n",
      "   macro avg       0.96      0.88      0.90       845\n",
      "weighted avg       0.94      0.94      0.94       845\n",
      "\n"
     ]
    }
   ],
   "source": [
    "print(confusion_matrix(y3D_test,CNN_pred))\n",
    "print(classification_report(y3D_test,CNN_pred))"
   ]
  },
  {
   "cell_type": "code",
   "execution_count": 37,
   "metadata": {},
   "outputs": [
    {
     "data": {
      "image/png": "[encoded data removed]",
      "text/plain": [
       "<Figure size 640x480 with 1 Axes>"
      ]
     },
     "metadata": {},
     "output_type": "display_data"
    }
   ],
   "source": [
    "# ------ View History Graph -------------------------------------------\n",
    "# View Accuracy Graph\n",
    "# summarize history for accuracy\n",
    "plt.plot(history.history['acc'])\n",
    "plt.plot(history.history['val_acc'])\n",
    "plt.show()"
   ]
  },
  {
   "cell_type": "code",
   "execution_count": 38,
   "metadata": {},
   "outputs": [
    {
     "data": {
      "image/png": "[encoded data removed]",
      "text/plain": [
       "<Figure size 640x480 with 1 Axes>"
      ]
     },
     "metadata": {},
     "output_type": "display_data"
    }
   ],
   "source": [
    "# View Loss Graph\n",
    "# summarize history for loss\n",
    "plt.plot(history.history['loss'])\n",
    "plt.plot(history.history['val_loss'])\n",
    "plt.show()"
   ]
  }
 ],
 "metadata": {
  "kernelspec": {
   "display_name": "Python 3.9.13 ('base')",
   "language": "python",
   "name": "python3"
  },
  "language_info": {
   "codemirror_mode": {
    "name": "ipython",
    "version": 3
   },
   "file_extension": ".py",
   "mimetype": "text/x-python",
   "name": "python",
   "nbconvert_exporter": "python",
   "pygments_lexer": "ipython3",
   "version": "3.9.13"
  },
  "orig_nbformat": 4,
  "vscode": {
   "interpreter": {
    "hash": "f8d29f74698ed0fe6f3b4750d395adbac39ca9d841a21f30b6569e61090523ed"
   }
  }
 },
 "nbformat": 4,
 "nbformat_minor": 2
}
